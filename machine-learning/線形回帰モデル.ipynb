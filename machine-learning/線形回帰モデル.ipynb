{
  "cells": [
    {
      "cell_type": "markdown",
      "metadata": {
        "id": "view-in-github",
        "colab_type": "text"
      },
      "source": [
        "<a href=\"https://colab.research.google.com/github/seiji0203/Machine-Learning-Models/blob/master/%E7%B7%9A%E5%BD%A2%E5%9B%9E%E5%B8%B0%E3%83%A2%E3%83%87%E3%83%AB.ipynb\" target=\"_parent\"><img src=\"https://colab.research.google.com/assets/colab-badge.svg\" alt=\"Open In Colab\"/></a>"
      ]
    },
    {
      "cell_type": "code",
      "execution_count": 1,
      "id": "7edafc33-9be0-49d1-8270-f5837e7426d9",
      "metadata": {
        "colab": {
          "base_uri": "https://localhost:8080/",
          "height": 320
        },
        "id": "7edafc33-9be0-49d1-8270-f5837e7426d9",
        "outputId": "f1ff9519-194a-46f9-a852-daff33eb8b61"
      },
      "outputs": [
        {
          "output_type": "display_data",
          "data": {
            "image/png": "[encoded data removed]",
            "text/plain": [
              "<Figure size 360x360 with 1 Axes>"
            ]
          },
          "metadata": {
            "needs_background": "light"
          }
        }
      ],
      "source": [
        "import numpy as np\n",
        "import matplotlib.pyplot as plt\n",
        "\n",
        "# ランダムな値を生成\n",
        "seed = np.random.RandomState(0)\n",
        "x = 30*seed.rand(100)\n",
        "y = x*2 - 14 + 10*seed.rand(100)\n",
        "\n",
        "# 関数を作成\n",
        "def LinearRegression(x, y):\n",
        "  a_nume = np.dot(x, y) - x.sum() * y.sum() / len(x)\n",
        "  a_denom = (x**2).sum() - x.sum()**2/len(x)\n",
        "  a = a_nume/ a_denom\n",
        "  b = (y.sum() - a * x.sum()) / len(x)\n",
        "  return a, b\n",
        "\n",
        "a, b = LinearRegression(x, y)\n",
        "\n",
        "y_ = a*x + b\n",
        "\n",
        "# 可視化\n",
        "plt.figure(figsize=(5, 5))\n",
        "plt.scatter(x, y)\n",
        "plt.plot(x, y_, c='indianred')\n",
        "plt.show()"
      ]
    },
    {
      "cell_type": "markdown",
      "id": "63a329b0-45d4-4bbd-ab77-d02e75cc6cd0",
      "metadata": {
        "id": "63a329b0-45d4-4bbd-ab77-d02e75cc6cd0"
      },
      "source": [
        "# Boston data sets"
      ]
    },
    {
      "cell_type": "code",
      "execution_count": 2,
      "id": "3c639681-922e-48df-ba79-d9f188c2de15",
      "metadata": {
        "id": "3c639681-922e-48df-ba79-d9f188c2de15"
      },
      "outputs": [],
      "source": [
        "# 必要なモジュールのimport\n",
        "import numpy as np\n",
        "import pandas as pd\n",
        "from pandas import DataFrame\n",
        "import matplotlib.pyplot as plt\n",
        "import seaborn as sns\n",
        "\n",
        "%matplotlib inline\n",
        "\n",
        "from sklearn.datasets import load_boston\n",
        "from sklearn.preprocessing import StandardScaler\n",
        "from sklearn.model_selection import train_test_split\n",
        "from sklearn.linear_model import LinearRegression, Ridge, Lasso\n",
        "from sklearn.metrics import mean_squared_error, r2_score"
      ]
    },
    {
      "cell_type": "code",
      "execution_count": 3,
      "id": "fdb6856f-d81e-4f3a-98a2-72d6a6fb0276",
      "metadata": {
        "colab": {
          "base_uri": "https://localhost:8080/"
        },
        "id": "fdb6856f-d81e-4f3a-98a2-72d6a6fb0276",
        "outputId": "8d7212c5-9d1c-4cf1-dbbc-17bea876c067"
      },
      "outputs": [
        {
          "output_type": "stream",
          "name": "stderr",
          "text": [
            "/usr/local/lib/python3.7/dist-packages/sklearn/utils/deprecation.py:87: FutureWarning: Function load_boston is deprecated; `load_boston` is deprecated in 1.0 and will be removed in 1.2.\n",
            "\n",
            "    The Boston housing prices dataset has an ethical problem. You can refer to\n",
            "    the documentation of this function for further details.\n",
            "\n",
            "    The scikit-learn maintainers therefore strongly discourage the use of this\n",
            "    dataset unless the purpose of the code is to study and educate about\n",
            "    ethical issues in data science and machine learning.\n",
            "\n",
            "    In this special case, you can fetch the dataset from the original\n",
            "    source::\n",
            "\n",
            "        import pandas as pd\n",
            "        import numpy as np\n",
            "\n",
            "\n",
            "        data_url = \"http://lib.stat.cmu.edu/datasets/boston\"\n",
            "        raw_df = pd.read_csv(data_url, sep=\"\\s+\", skiprows=22, header=None)\n",
            "        data = np.hstack([raw_df.values[::2, :], raw_df.values[1::2, :2]])\n",
            "        target = raw_df.values[1::2, 2]\n",
            "\n",
            "    Alternative datasets include the California housing dataset (i.e.\n",
            "    :func:`~sklearn.datasets.fetch_california_housing`) and the Ames housing\n",
            "    dataset. You can load the datasets as follows::\n",
            "\n",
            "        from sklearn.datasets import fetch_california_housing\n",
            "        housing = fetch_california_housing()\n",
            "\n",
            "    for the California housing dataset and::\n",
            "\n",
            "        from sklearn.datasets import fetch_openml\n",
            "        housing = fetch_openml(name=\"house_prices\", as_frame=True)\n",
            "\n",
            "    for the Ames housing dataset.\n",
            "    \n",
            "  warnings.warn(msg, category=FutureWarning)\n"
          ]
        }
      ],
      "source": [
        "# Boston datasets import\n",
        "boston = load_boston()"
      ]
    },
    {
      "cell_type": "code",
      "execution_count": 4,
      "id": "8bcc0571-3292-462c-87eb-92acaf3281fa",
      "metadata": {
        "colab": {
          "base_uri": "https://localhost:8080/"
        },
        "id": "8bcc0571-3292-462c-87eb-92acaf3281fa",
        "outputId": "99e506b0-93af-44a8-ac1e-d8915651573f"
      },
      "outputs": [
        {
          "output_type": "stream",
          "name": "stdout",
          "text": [
            "['CRIM' 'ZN' 'INDUS' 'CHAS' 'NOX' 'RM' 'AGE' 'DIS' 'RAD' 'TAX' 'PTRATIO'\n",
            " 'B' 'LSTAT']\n"
          ]
        }
      ],
      "source": [
        "# print(boston)　データを確認\n",
        "# print(boston['DESCR']) DESCR変数の中身を確認\n",
        "\n",
        "# feature_namesの中身を確認\n",
        "print(boston['feature_names'])"
      ]
    },
    {
      "cell_type": "code",
      "execution_count": 5,
      "id": "ca7a106b-c24f-48d8-925b-de223b96dadf",
      "metadata": {
        "colab": {
          "base_uri": "https://localhost:8080/"
        },
        "id": "ca7a106b-c24f-48d8-925b-de223b96dadf",
        "outputId": "1d47df8a-12e5-4c8c-c2fc-68e78bdee03e"
      },
      "outputs": [
        {
          "output_type": "stream",
          "name": "stdout",
          "text": [
            "[[6.3200e-03 1.8000e+01 2.3100e+00 ... 1.5300e+01 3.9690e+02 4.9800e+00]\n",
            " [2.7310e-02 0.0000e+00 7.0700e+00 ... 1.7800e+01 3.9690e+02 9.1400e+00]\n",
            " [2.7290e-02 0.0000e+00 7.0700e+00 ... 1.7800e+01 3.9283e+02 4.0300e+00]\n",
            " ...\n",
            " [6.0760e-02 0.0000e+00 1.1930e+01 ... 2.1000e+01 3.9690e+02 5.6400e+00]\n",
            " [1.0959e-01 0.0000e+00 1.1930e+01 ... 2.1000e+01 3.9345e+02 6.4800e+00]\n",
            " [4.7410e-02 0.0000e+00 1.1930e+01 ... 2.1000e+01 3.9690e+02 7.8800e+00]]\n"
          ]
        }
      ],
      "source": [
        "# 説明変数の中身の確認\n",
        "print(boston['data'])"
      ]
    },
    {
      "cell_type": "code",
      "execution_count": 6,
      "id": "eff4acca-ffdf-4179-9a4e-c5881ef47eb7",
      "metadata": {
        "colab": {
          "base_uri": "https://localhost:8080/"
        },
        "id": "eff4acca-ffdf-4179-9a4e-c5881ef47eb7",
        "outputId": "13e87d60-1916-4ad2-8a1f-e5a832702702"
      },
      "outputs": [
        {
          "output_type": "stream",
          "name": "stdout",
          "text": [
            "[24.  21.6 34.7 33.4 36.2 28.7 22.9 27.1 16.5 18.9 15.  18.9 21.7 20.4\n",
            " 18.2 19.9 23.1 17.5 20.2 18.2 13.6 19.6 15.2 14.5 15.6 13.9 16.6 14.8\n",
            " 18.4 21.  12.7 14.5 13.2 13.1 13.5 18.9 20.  21.  24.7 30.8 34.9 26.6\n",
            " 25.3 24.7 21.2 19.3 20.  16.6 14.4 19.4 19.7 20.5 25.  23.4 18.9 35.4\n",
            " 24.7 31.6 23.3 19.6 18.7 16.  22.2 25.  33.  23.5 19.4 22.  17.4 20.9\n",
            " 24.2 21.7 22.8 23.4 24.1 21.4 20.  20.8 21.2 20.3 28.  23.9 24.8 22.9\n",
            " 23.9 26.6 22.5 22.2 23.6 28.7 22.6 22.  22.9 25.  20.6 28.4 21.4 38.7\n",
            " 43.8 33.2 27.5 26.5 18.6 19.3 20.1 19.5 19.5 20.4 19.8 19.4 21.7 22.8\n",
            " 18.8 18.7 18.5 18.3 21.2 19.2 20.4 19.3 22.  20.3 20.5 17.3 18.8 21.4\n",
            " 15.7 16.2 18.  14.3 19.2 19.6 23.  18.4 15.6 18.1 17.4 17.1 13.3 17.8\n",
            " 14.  14.4 13.4 15.6 11.8 13.8 15.6 14.6 17.8 15.4 21.5 19.6 15.3 19.4\n",
            " 17.  15.6 13.1 41.3 24.3 23.3 27.  50.  50.  50.  22.7 25.  50.  23.8\n",
            " 23.8 22.3 17.4 19.1 23.1 23.6 22.6 29.4 23.2 24.6 29.9 37.2 39.8 36.2\n",
            " 37.9 32.5 26.4 29.6 50.  32.  29.8 34.9 37.  30.5 36.4 31.1 29.1 50.\n",
            " 33.3 30.3 34.6 34.9 32.9 24.1 42.3 48.5 50.  22.6 24.4 22.5 24.4 20.\n",
            " 21.7 19.3 22.4 28.1 23.7 25.  23.3 28.7 21.5 23.  26.7 21.7 27.5 30.1\n",
            " 44.8 50.  37.6 31.6 46.7 31.5 24.3 31.7 41.7 48.3 29.  24.  25.1 31.5\n",
            " 23.7 23.3 22.  20.1 22.2 23.7 17.6 18.5 24.3 20.5 24.5 26.2 24.4 24.8\n",
            " 29.6 42.8 21.9 20.9 44.  50.  36.  30.1 33.8 43.1 48.8 31.  36.5 22.8\n",
            " 30.7 50.  43.5 20.7 21.1 25.2 24.4 35.2 32.4 32.  33.2 33.1 29.1 35.1\n",
            " 45.4 35.4 46.  50.  32.2 22.  20.1 23.2 22.3 24.8 28.5 37.3 27.9 23.9\n",
            " 21.7 28.6 27.1 20.3 22.5 29.  24.8 22.  26.4 33.1 36.1 28.4 33.4 28.2\n",
            " 22.8 20.3 16.1 22.1 19.4 21.6 23.8 16.2 17.8 19.8 23.1 21.  23.8 23.1\n",
            " 20.4 18.5 25.  24.6 23.  22.2 19.3 22.6 19.8 17.1 19.4 22.2 20.7 21.1\n",
            " 19.5 18.5 20.6 19.  18.7 32.7 16.5 23.9 31.2 17.5 17.2 23.1 24.5 26.6\n",
            " 22.9 24.1 18.6 30.1 18.2 20.6 17.8 21.7 22.7 22.6 25.  19.9 20.8 16.8\n",
            " 21.9 27.5 21.9 23.1 50.  50.  50.  50.  50.  13.8 13.8 15.  13.9 13.3\n",
            " 13.1 10.2 10.4 10.9 11.3 12.3  8.8  7.2 10.5  7.4 10.2 11.5 15.1 23.2\n",
            "  9.7 13.8 12.7 13.1 12.5  8.5  5.   6.3  5.6  7.2 12.1  8.3  8.5  5.\n",
            " 11.9 27.9 17.2 27.5 15.  17.2 17.9 16.3  7.   7.2  7.5 10.4  8.8  8.4\n",
            " 16.7 14.2 20.8 13.4 11.7  8.3 10.2 10.9 11.   9.5 14.5 14.1 16.1 14.3\n",
            " 11.7 13.4  9.6  8.7  8.4 12.8 10.5 17.1 18.4 15.4 10.8 11.8 14.9 12.6\n",
            " 14.1 13.  13.4 15.2 16.1 17.8 14.9 14.1 12.7 13.5 14.9 20.  16.4 17.7\n",
            " 19.5 20.2 21.4 19.9 19.  19.1 19.1 20.1 19.9 19.6 23.2 29.8 13.8 13.3\n",
            " 16.7 12.  14.6 21.4 23.  23.7 25.  21.8 20.6 21.2 19.1 20.6 15.2  7.\n",
            "  8.1 13.6 20.1 21.8 24.5 23.1 19.7 18.3 21.2 17.5 16.8 22.4 20.6 23.9\n",
            " 22.  11.9]\n"
          ]
        }
      ],
      "source": [
        "# 目的変数の中身の確認\n",
        "print(boston['target'])"
      ]
    },
    {
      "cell_type": "markdown",
      "id": "e49772be-796a-45e4-8203-e9a20d4205a3",
      "metadata": {
        "id": "e49772be-796a-45e4-8203-e9a20d4205a3"
      },
      "source": [
        "# データフレームの作成"
      ]
    },
    {
      "cell_type": "code",
      "execution_count": 7,
      "id": "59ad0e4d-4208-4369-8bcd-f101651d977b",
      "metadata": {
        "colab": {
          "base_uri": "https://localhost:8080/",
          "height": 204
        },
        "id": "59ad0e4d-4208-4369-8bcd-f101651d977b",
        "outputId": "e393e776-3ca2-487c-9236-f523593c4ea4"
      },
      "outputs": [
        {
          "output_type": "execute_result",
          "data": {
            "text/html": [
              "\n",
              "  <div id=\"df-39df3951-f530-4be2-8079-b734b84c75b7\">\n",
              "    <div class=\"colab-df-container\">\n",
              "      <div>\n",
              "<style scoped>\n",
              "    .dataframe tbody tr th:only-of-type {\n",
              "        vertical-align: middle;\n",
              "    }\n",
              "\n",
              "    .dataframe tbody tr th {\n",
              "        vertical-align: top;\n",
              "    }\n",
              "\n",
              "    .dataframe thead th {\n",
              "        text-align: right;\n",
              "    }\n",
              "</style>\n",
              "<table border=\"1\" class=\"dataframe\">\n",
              "  <thead>\n",
              "    <tr style=\"text-align: right;\">\n",
              "      <th></th>\n",
              "      <th>CRIM</th>\n",
              "      <th>ZN</th>\n",
              "      <th>INDUS</th>\n",
              "      <th>CHAS</th>\n",
              "      <th>NOX</th>\n",
              "      <th>RM</th>\n",
              "      <th>AGE</th>\n",
              "      <th>DIS</th>\n",
              "      <th>RAD</th>\n",
              "      <th>TAX</th>\n",
              "      <th>PTRATIO</th>\n",
              "      <th>B</th>\n",
              "      <th>LSTAT</th>\n",
              "    </tr>\n",
              "  </thead>\n",
              "  <tbody>\n",
              "    <tr>\n",
              "      <th>0</th>\n",
              "      <td>0.00632</td>\n",
              "      <td>18.0</td>\n",
              "      <td>2.31</td>\n",
              "      <td>0.0</td>\n",
              "      <td>0.538</td>\n",
              "      <td>6.575</td>\n",
              "      <td>65.2</td>\n",
              "      <td>4.0900</td>\n",
              "      <td>1.0</td>\n",
              "      <td>296.0</td>\n",
              "      <td>15.3</td>\n",
              "      <td>396.90</td>\n",
              "      <td>4.98</td>\n",
              "    </tr>\n",
              "    <tr>\n",
              "      <th>1</th>\n",
              "      <td>0.02731</td>\n",
              "      <td>0.0</td>\n",
              "      <td>7.07</td>\n",
              "      <td>0.0</td>\n",
              "      <td>0.469</td>\n",
              "      <td>6.421</td>\n",
              "      <td>78.9</td>\n",
              "      <td>4.9671</td>\n",
              "      <td>2.0</td>\n",
              "      <td>242.0</td>\n",
              "      <td>17.8</td>\n",
              "      <td>396.90</td>\n",
              "      <td>9.14</td>\n",
              "    </tr>\n",
              "    <tr>\n",
              "      <th>2</th>\n",
              "      <td>0.02729</td>\n",
              "      <td>0.0</td>\n",
              "      <td>7.07</td>\n",
              "      <td>0.0</td>\n",
              "      <td>0.469</td>\n",
              "      <td>7.185</td>\n",
              "      <td>61.1</td>\n",
              "      <td>4.9671</td>\n",
              "      <td>2.0</td>\n",
              "      <td>242.0</td>\n",
              "      <td>17.8</td>\n",
              "      <td>392.83</td>\n",
              "      <td>4.03</td>\n",
              "    </tr>\n",
              "    <tr>\n",
              "      <th>3</th>\n",
              "      <td>0.03237</td>\n",
              "      <td>0.0</td>\n",
              "      <td>2.18</td>\n",
              "      <td>0.0</td>\n",
              "      <td>0.458</td>\n",
              "      <td>6.998</td>\n",
              "      <td>45.8</td>\n",
              "      <td>6.0622</td>\n",
              "      <td>3.0</td>\n",
              "      <td>222.0</td>\n",
              "      <td>18.7</td>\n",
              "      <td>394.63</td>\n",
              "      <td>2.94</td>\n",
              "    </tr>\n",
              "    <tr>\n",
              "      <th>4</th>\n",
              "      <td>0.06905</td>\n",
              "      <td>0.0</td>\n",
              "      <td>2.18</td>\n",
              "      <td>0.0</td>\n",
              "      <td>0.458</td>\n",
              "      <td>7.147</td>\n",
              "      <td>54.2</td>\n",
              "      <td>6.0622</td>\n",
              "      <td>3.0</td>\n",
              "      <td>222.0</td>\n",
              "      <td>18.7</td>\n",
              "      <td>396.90</td>\n",
              "      <td>5.33</td>\n",
              "    </tr>\n",
              "  </tbody>\n",
              "</table>\n",
              "</div>\n",
              "      <button class=\"colab-df-convert\" onclick=\"convertToInteractive('df-39df3951-f530-4be2-8079-b734b84c75b7')\"\n",
              "              title=\"Convert this dataframe to an interactive table.\"\n",
              "              style=\"display:none;\">\n",
              "        \n",
              "  <svg xmlns=\"http://www.w3.org/2000/svg\" height=\"24px\"viewBox=\"0 0 24 24\"\n",
              "       width=\"24px\">\n",
              "    <path d=\"M0 0h24v24H0V0z\" fill=\"none\"/>\n",
              "    <path d=\"M18.56 5.44l.94 2.06.94-2.06 2.06-.94-2.06-.94-.94-2.06-.94 2.06-2.06.94zm-11 1L8.5 8.5l.94-2.06 2.06-.94-2.06-.94L8.5 2.5l-.94 2.06-2.06.94zm10 10l.94 2.06.94-2.06 2.06-.94-2.06-.94-.94-2.06-.94 2.06-2.06.94z\"/><path d=\"M17.41 7.96l-1.37-1.37c-.4-.4-.92-.59-1.43-.59-.52 0-1.04.2-1.43.59L10.3 9.45l-7.72 7.72c-.78.78-.78 2.05 0 2.83L4 21.41c.39.39.9.59 1.41.59.51 0 1.02-.2 1.41-.59l7.78-7.78 2.81-2.81c.8-.78.8-2.07 0-2.86zM5.41 20L4 18.59l7.72-7.72 1.47 1.35L5.41 20z\"/>\n",
              "  </svg>\n",
              "      </button>\n",
              "      \n",
              "  <style>\n",
              "    .colab-df-container {\n",
              "      display:flex;\n",
              "      flex-wrap:wrap;\n",
              "      gap: 12px;\n",
              "    }\n",
              "\n",
              "    .colab-df-convert {\n",
              "      background-color: #E8F0FE;\n",
              "      border: none;\n",
              "      border-radius: 50%;\n",
              "      cursor: pointer;\n",
              "      display: none;\n",
              "      fill: #1967D2;\n",
              "      height: 32px;\n",
              "      padding: 0 0 0 0;\n",
              "      width: 32px;\n",
              "    }\n",
              "\n",
              "    .colab-df-convert:hover {\n",
              "      background-color: #E2EBFA;\n",
              "      box-shadow: 0px 1px 2px rgba(60, 64, 67, 0.3), 0px 1px 3px 1px rgba(60, 64, 67, 0.15);\n",
              "      fill: #174EA6;\n",
              "    }\n",
              "\n",
              "    [theme=dark] .colab-df-convert {\n",
              "      background-color: #3B4455;\n",
              "      fill: #D2E3FC;\n",
              "    }\n",
              "\n",
              "    [theme=dark] .colab-df-convert:hover {\n",
              "      background-color: #434B5C;\n",
              "      box-shadow: 0px 1px 3px 1px rgba(0, 0, 0, 0.15);\n",
              "      filter: drop-shadow(0px 1px 2px rgba(0, 0, 0, 0.3));\n",
              "      fill: #FFFFFF;\n",
              "    }\n",
              "  </style>\n",
              "\n",
              "      <script>\n",
              "        const buttonEl =\n",
              "          document.querySelector('#df-39df3951-f530-4be2-8079-b734b84c75b7 button.colab-df-convert');\n",
              "        buttonEl.style.display =\n",
              "          google.colab.kernel.accessAllowed ? 'block' : 'none';\n",
              "\n",
              "        async function convertToInteractive(key) {\n",
              "          const element = document.querySelector('#df-39df3951-f530-4be2-8079-b734b84c75b7');\n",
              "          const dataTable =\n",
              "            await google.colab.kernel.invokeFunction('convertToInteractive',\n",
              "                                                     [key], {});\n",
              "          if (!dataTable) return;\n",
              "\n",
              "          const docLinkHtml = 'Like what you see? Visit the ' +\n",
              "            '<a target=\"_blank\" href=https://colab.research.google.com/notebooks/data_table.ipynb>data table notebook</a>'\n",
              "            + ' to learn more about interactive tables.';\n",
              "          element.innerHTML = '';\n",
              "          dataTable['output_type'] = 'display_data';\n",
              "          await google.colab.output.renderOutput(dataTable, element);\n",
              "          const docLink = document.createElement('div');\n",
              "          docLink.innerHTML = docLinkHtml;\n",
              "          element.appendChild(docLink);\n",
              "        }\n",
              "      </script>\n",
              "    </div>\n",
              "  </div>\n",
              "  "
            ],
            "text/plain": [
              "      CRIM    ZN  INDUS  CHAS    NOX  ...  RAD    TAX  PTRATIO       B  LSTAT\n",
              "0  0.00632  18.0   2.31   0.0  0.538  ...  1.0  296.0     15.3  396.90   4.98\n",
              "1  0.02731   0.0   7.07   0.0  0.469  ...  2.0  242.0     17.8  396.90   9.14\n",
              "2  0.02729   0.0   7.07   0.0  0.469  ...  2.0  242.0     17.8  392.83   4.03\n",
              "3  0.03237   0.0   2.18   0.0  0.458  ...  3.0  222.0     18.7  394.63   2.94\n",
              "4  0.06905   0.0   2.18   0.0  0.458  ...  3.0  222.0     18.7  396.90   5.33\n",
              "\n",
              "[5 rows x 13 columns]"
            ]
          },
          "metadata": {},
          "execution_count": 7
        }
      ],
      "source": [
        "# 説明変数をDataFrameへ変換\n",
        "df = DataFrame(data=boston.data, columns = boston.feature_names)\n",
        "df.head()"
      ]
    },
    {
      "cell_type": "markdown",
      "id": "e9426c93-0b36-4bfa-816b-b9b368dcdd42",
      "metadata": {
        "id": "e9426c93-0b36-4bfa-816b-b9b368dcdd42"
      },
      "source": [
        "* 13の数値/カテゴリーの予測値です。中央値（属性14）が通常ターゲットとなる。\n",
        "* CRIM 町ごとの一人当たりの犯罪率\n",
        "* ZN 25,000平方フィート以上の土地に指定されている住宅地の割合\n",
        "* INDUS 町ごとの非小売業の面積の割合\n",
        "* CHAS チャールズ川ダミー変数（＝川に面している場合は1、そうでない場合は0）\n",
        "* NOX 一酸化窒素濃度（1,000万分の1）\n",
        "* RM 住戸あたりの平均部屋数\n",
        "* AGE 1940年以前に建てられた持ち家の割合\n",
        "* DIS ボストンの5つの雇用中心地までの加重距離\n",
        "* RAD 放射状高速道路へのアクセス性を示す指標\n",
        "* TAX 10,000ドルあたりの固定資産税の全額負担率\n",
        "* PTRATIO 町ごとの生徒と教師の比率\n",
        "* B 1000(Bk - 0.63)^2 ここで、Bkは町別の黒人の割合である。\n",
        "* LSTAT 人口の%低いステータス\n",
        "* MEDV 1000ドル台の持ち家の中央値"
      ]
    },
    {
      "cell_type": "markdown",
      "id": "9343153e-0361-4870-a310-329b827285bb",
      "metadata": {
        "id": "9343153e-0361-4870-a310-329b827285bb"
      },
      "source": [
        "* CRIM per capita crime rate by town\n",
        "* ZN proportion of residential land zoned for lots over 25,000 sq.ft.\n",
        "* INDUS proportion of non-retail business acres per town\n",
        "* CHAS Charles River dummy variable (= 1 if tract bounds river; 0 otherwise)\n",
        "* NOX nitric oxides concentration (parts per 10 million)\n",
        "* RM average number of rooms per dwelling\n",
        "* AGE proportion of owner-occupied units built prior to 1940\n",
        "* DIS weighted distances to five Boston employment centres\n",
        "* RAD index of accessibility to radial highways\n",
        "* TAX full-value property-tax rate per $10,000\n",
        "\n",
        "* PTRATIO pupil-teacher ratio by town\n",
        "* B 1000(Bk - 0.63)^2 where Bk is the proportion of black people by town\n",
        "* LSTAT % lower status of the population\n",
        "* MEDV Median value of owner-occupied homes in $1000’s"
      ]
    },
    {
      "cell_type": "code",
      "execution_count": 8,
      "id": "f263053a-3de9-48ef-a67a-a6562b4eff34",
      "metadata": {
        "colab": {
          "base_uri": "https://localhost:8080/"
        },
        "id": "f263053a-3de9-48ef-a67a-a6562b4eff34",
        "outputId": "d8a36d92-983d-426e-c5bf-c3b95dd04dec"
      },
      "outputs": [
        {
          "output_type": "execute_result",
          "data": {
            "text/plain": [
              "(506, 13)"
            ]
          },
          "metadata": {},
          "execution_count": 8
        }
      ],
      "source": [
        "# データの次元\n",
        "df.shape"
      ]
    },
    {
      "cell_type": "code",
      "execution_count": 9,
      "id": "18a32dc2-f61a-4349-a469-058b239fdbf8",
      "metadata": {
        "colab": {
          "base_uri": "https://localhost:8080/",
          "height": 204
        },
        "id": "18a32dc2-f61a-4349-a469-058b239fdbf8",
        "outputId": "e5e03b59-b5dd-4462-ffa3-ffd462051605"
      },
      "outputs": [
        {
          "output_type": "execute_result",
          "data": {
            "text/html": [
              "\n",
              "  <div id=\"df-f1702394-a818-4011-aaa0-fa10cc33aa59\">\n",
              "    <div class=\"colab-df-container\">\n",
              "      <div>\n",
              "<style scoped>\n",
              "    .dataframe tbody tr th:only-of-type {\n",
              "        vertical-align: middle;\n",
              "    }\n",
              "\n",
              "    .dataframe tbody tr th {\n",
              "        vertical-align: top;\n",
              "    }\n",
              "\n",
              "    .dataframe thead th {\n",
              "        text-align: right;\n",
              "    }\n",
              "</style>\n",
              "<table border=\"1\" class=\"dataframe\">\n",
              "  <thead>\n",
              "    <tr style=\"text-align: right;\">\n",
              "      <th></th>\n",
              "      <th>CRIM</th>\n",
              "      <th>ZN</th>\n",
              "      <th>INDUS</th>\n",
              "      <th>CHAS</th>\n",
              "      <th>NOX</th>\n",
              "      <th>RM</th>\n",
              "      <th>AGE</th>\n",
              "      <th>DIS</th>\n",
              "      <th>RAD</th>\n",
              "      <th>TAX</th>\n",
              "      <th>PTRATIO</th>\n",
              "      <th>B</th>\n",
              "      <th>LSTAT</th>\n",
              "      <th>MEDV</th>\n",
              "    </tr>\n",
              "  </thead>\n",
              "  <tbody>\n",
              "    <tr>\n",
              "      <th>0</th>\n",
              "      <td>0.00632</td>\n",
              "      <td>18.0</td>\n",
              "      <td>2.31</td>\n",
              "      <td>0.0</td>\n",
              "      <td>0.538</td>\n",
              "      <td>6.575</td>\n",
              "      <td>65.2</td>\n",
              "      <td>4.0900</td>\n",
              "      <td>1.0</td>\n",
              "      <td>296.0</td>\n",
              "      <td>15.3</td>\n",
              "      <td>396.90</td>\n",
              "      <td>4.98</td>\n",
              "      <td>24.0</td>\n",
              "    </tr>\n",
              "    <tr>\n",
              "      <th>1</th>\n",
              "      <td>0.02731</td>\n",
              "      <td>0.0</td>\n",
              "      <td>7.07</td>\n",
              "      <td>0.0</td>\n",
              "      <td>0.469</td>\n",
              "      <td>6.421</td>\n",
              "      <td>78.9</td>\n",
              "      <td>4.9671</td>\n",
              "      <td>2.0</td>\n",
              "      <td>242.0</td>\n",
              "      <td>17.8</td>\n",
              "      <td>396.90</td>\n",
              "      <td>9.14</td>\n",
              "      <td>21.6</td>\n",
              "    </tr>\n",
              "    <tr>\n",
              "      <th>2</th>\n",
              "      <td>0.02729</td>\n",
              "      <td>0.0</td>\n",
              "      <td>7.07</td>\n",
              "      <td>0.0</td>\n",
              "      <td>0.469</td>\n",
              "      <td>7.185</td>\n",
              "      <td>61.1</td>\n",
              "      <td>4.9671</td>\n",
              "      <td>2.0</td>\n",
              "      <td>242.0</td>\n",
              "      <td>17.8</td>\n",
              "      <td>392.83</td>\n",
              "      <td>4.03</td>\n",
              "      <td>34.7</td>\n",
              "    </tr>\n",
              "    <tr>\n",
              "      <th>3</th>\n",
              "      <td>0.03237</td>\n",
              "      <td>0.0</td>\n",
              "      <td>2.18</td>\n",
              "      <td>0.0</td>\n",
              "      <td>0.458</td>\n",
              "      <td>6.998</td>\n",
              "      <td>45.8</td>\n",
              "      <td>6.0622</td>\n",
              "      <td>3.0</td>\n",
              "      <td>222.0</td>\n",
              "      <td>18.7</td>\n",
              "      <td>394.63</td>\n",
              "      <td>2.94</td>\n",
              "      <td>33.4</td>\n",
              "    </tr>\n",
              "    <tr>\n",
              "      <th>4</th>\n",
              "      <td>0.06905</td>\n",
              "      <td>0.0</td>\n",
              "      <td>2.18</td>\n",
              "      <td>0.0</td>\n",
              "      <td>0.458</td>\n",
              "      <td>7.147</td>\n",
              "      <td>54.2</td>\n",
              "      <td>6.0622</td>\n",
              "      <td>3.0</td>\n",
              "      <td>222.0</td>\n",
              "      <td>18.7</td>\n",
              "      <td>396.90</td>\n",
              "      <td>5.33</td>\n",
              "      <td>36.2</td>\n",
              "    </tr>\n",
              "  </tbody>\n",
              "</table>\n",
              "</div>\n",
              "      <button class=\"colab-df-convert\" onclick=\"convertToInteractive('df-f1702394-a818-4011-aaa0-fa10cc33aa59')\"\n",
              "              title=\"Convert this dataframe to an interactive table.\"\n",
              "              style=\"display:none;\">\n",
              "        \n",
              "  <svg xmlns=\"http://www.w3.org/2000/svg\" height=\"24px\"viewBox=\"0 0 24 24\"\n",
              "       width=\"24px\">\n",
              "    <path d=\"M0 0h24v24H0V0z\" fill=\"none\"/>\n",
              "    <path d=\"M18.56 5.44l.94 2.06.94-2.06 2.06-.94-2.06-.94-.94-2.06-.94 2.06-2.06.94zm-11 1L8.5 8.5l.94-2.06 2.06-.94-2.06-.94L8.5 2.5l-.94 2.06-2.06.94zm10 10l.94 2.06.94-2.06 2.06-.94-2.06-.94-.94-2.06-.94 2.06-2.06.94z\"/><path d=\"M17.41 7.96l-1.37-1.37c-.4-.4-.92-.59-1.43-.59-.52 0-1.04.2-1.43.59L10.3 9.45l-7.72 7.72c-.78.78-.78 2.05 0 2.83L4 21.41c.39.39.9.59 1.41.59.51 0 1.02-.2 1.41-.59l7.78-7.78 2.81-2.81c.8-.78.8-2.07 0-2.86zM5.41 20L4 18.59l7.72-7.72 1.47 1.35L5.41 20z\"/>\n",
              "  </svg>\n",
              "      </button>\n",
              "      \n",
              "  <style>\n",
              "    .colab-df-container {\n",
              "      display:flex;\n",
              "      flex-wrap:wrap;\n",
              "      gap: 12px;\n",
              "    }\n",
              "\n",
              "    .colab-df-convert {\n",
              "      background-color: #E8F0FE;\n",
              "      border: none;\n",
              "      border-radius: 50%;\n",
              "      cursor: pointer;\n",
              "      display: none;\n",
              "      fill: #1967D2;\n",
              "      height: 32px;\n",
              "      padding: 0 0 0 0;\n",
              "      width: 32px;\n",
              "    }\n",
              "\n",
              "    .colab-df-convert:hover {\n",
              "      background-color: #E2EBFA;\n",
              "      box-shadow: 0px 1px 2px rgba(60, 64, 67, 0.3), 0px 1px 3px 1px rgba(60, 64, 67, 0.15);\n",
              "      fill: #174EA6;\n",
              "    }\n",
              "\n",
              "    [theme=dark] .colab-df-convert {\n",
              "      background-color: #3B4455;\n",
              "      fill: #D2E3FC;\n",
              "    }\n",
              "\n",
              "    [theme=dark] .colab-df-convert:hover {\n",
              "      background-color: #434B5C;\n",
              "      box-shadow: 0px 1px 3px 1px rgba(0, 0, 0, 0.15);\n",
              "      filter: drop-shadow(0px 1px 2px rgba(0, 0, 0, 0.3));\n",
              "      fill: #FFFFFF;\n",
              "    }\n",
              "  </style>\n",
              "\n",
              "      <script>\n",
              "        const buttonEl =\n",
              "          document.querySelector('#df-f1702394-a818-4011-aaa0-fa10cc33aa59 button.colab-df-convert');\n",
              "        buttonEl.style.display =\n",
              "          google.colab.kernel.accessAllowed ? 'block' : 'none';\n",
              "\n",
              "        async function convertToInteractive(key) {\n",
              "          const element = document.querySelector('#df-f1702394-a818-4011-aaa0-fa10cc33aa59');\n",
              "          const dataTable =\n",
              "            await google.colab.kernel.invokeFunction('convertToInteractive',\n",
              "                                                     [key], {});\n",
              "          if (!dataTable) return;\n",
              "\n",
              "          const docLinkHtml = 'Like what you see? Visit the ' +\n",
              "            '<a target=\"_blank\" href=https://colab.research.google.com/notebooks/data_table.ipynb>data table notebook</a>'\n",
              "            + ' to learn more about interactive tables.';\n",
              "          element.innerHTML = '';\n",
              "          dataTable['output_type'] = 'display_data';\n",
              "          await google.colab.output.renderOutput(dataTable, element);\n",
              "          const docLink = document.createElement('div');\n",
              "          docLink.innerHTML = docLinkHtml;\n",
              "          element.appendChild(docLink);\n",
              "        }\n",
              "      </script>\n",
              "    </div>\n",
              "  </div>\n",
              "  "
            ],
            "text/plain": [
              "      CRIM    ZN  INDUS  CHAS    NOX  ...    TAX  PTRATIO       B  LSTAT  MEDV\n",
              "0  0.00632  18.0   2.31   0.0  0.538  ...  296.0     15.3  396.90   4.98  24.0\n",
              "1  0.02731   0.0   7.07   0.0  0.469  ...  242.0     17.8  396.90   9.14  21.6\n",
              "2  0.02729   0.0   7.07   0.0  0.469  ...  242.0     17.8  392.83   4.03  34.7\n",
              "3  0.03237   0.0   2.18   0.0  0.458  ...  222.0     18.7  394.63   2.94  33.4\n",
              "4  0.06905   0.0   2.18   0.0  0.458  ...  222.0     18.7  396.90   5.33  36.2\n",
              "\n",
              "[5 rows x 14 columns]"
            ]
          },
          "metadata": {},
          "execution_count": 9
        }
      ],
      "source": [
        "# 目的変数をDataFrameへ追加\n",
        "df['MEDV'] = np.array(boston.target)\n",
        "df.head()"
      ]
    },
    {
      "cell_type": "code",
      "execution_count": 10,
      "id": "812cc700-fe12-44b0-8c74-686de7817b02",
      "metadata": {
        "colab": {
          "base_uri": "https://localhost:8080/"
        },
        "id": "812cc700-fe12-44b0-8c74-686de7817b02",
        "outputId": "700aa6f6-b2d2-4d6f-e92b-0a3305a28a1e"
      },
      "outputs": [
        {
          "output_type": "execute_result",
          "data": {
            "text/plain": [
              "(506, 14)"
            ]
          },
          "metadata": {},
          "execution_count": 10
        }
      ],
      "source": [
        "df.shape"
      ]
    },
    {
      "cell_type": "code",
      "execution_count": 11,
      "id": "8c07e5d2-3855-445a-ae84-829ef2cc6ef7",
      "metadata": {
        "colab": {
          "base_uri": "https://localhost:8080/"
        },
        "id": "8c07e5d2-3855-445a-ae84-829ef2cc6ef7",
        "outputId": "fbf520db-d2e0-41f0-cf39-20e1a67ea19d"
      },
      "outputs": [
        {
          "output_type": "stream",
          "name": "stdout",
          "text": [
            "<class 'pandas.core.frame.DataFrame'>\n",
            "RangeIndex: 506 entries, 0 to 505\n",
            "Data columns (total 14 columns):\n",
            " #   Column   Non-Null Count  Dtype  \n",
            "---  ------   --------------  -----  \n",
            " 0   CRIM     506 non-null    float64\n",
            " 1   ZN       506 non-null    float64\n",
            " 2   INDUS    506 non-null    float64\n",
            " 3   CHAS     506 non-null    float64\n",
            " 4   NOX      506 non-null    float64\n",
            " 5   RM       506 non-null    float64\n",
            " 6   AGE      506 non-null    float64\n",
            " 7   DIS      506 non-null    float64\n",
            " 8   RAD      506 non-null    float64\n",
            " 9   TAX      506 non-null    float64\n",
            " 10  PTRATIO  506 non-null    float64\n",
            " 11  B        506 non-null    float64\n",
            " 12  LSTAT    506 non-null    float64\n",
            " 13  MEDV     506 non-null    float64\n",
            "dtypes: float64(14)\n",
            "memory usage: 55.5 KB\n"
          ]
        }
      ],
      "source": [
        "# boston datasets data info\n",
        "df.info()"
      ]
    },
    {
      "cell_type": "markdown",
      "id": "91750736-2d3b-4490-9fca-d810c19904bc",
      "metadata": {
        "id": "91750736-2d3b-4490-9fca-d810c19904bc"
      },
      "source": [
        "# データの可視化\n",
        "住宅価格を予測するために必要な変数を絞るためにヒートマップと散布図を確認"
      ]
    },
    {
      "cell_type": "code",
      "execution_count": 12,
      "id": "e69b4fa6-9dd4-4380-a494-b4dcf12c93b2",
      "metadata": {
        "colab": {
          "base_uri": "https://localhost:8080/",
          "height": 541
        },
        "id": "e69b4fa6-9dd4-4380-a494-b4dcf12c93b2",
        "outputId": "0c35787c-1eec-4ccd-ed2b-11cd8e155946"
      },
      "outputs": [
        {
          "output_type": "display_data",
          "data": {
            "image/png": "[encoded data removed]",
            "text/plain": [
              "<Figure size 864x648 with 2 Axes>"
            ]
          },
          "metadata": {
            "needs_background": "light"
          }
        }
      ],
      "source": [
        "# ヒートマップを作成\n",
        "corrmat = df.corr()\n",
        "f, ax = plt.subplots(figsize=(12, 9))\n",
        "sns.heatmap(corrmat, annot=True, vmax=.8, square=True)\n",
        "plt.show()"
      ]
    },
    {
      "cell_type": "markdown",
      "id": "b1e33bee-87ff-4320-bfec-f29deffdb21b",
      "metadata": {
        "id": "b1e33bee-87ff-4320-bfec-f29deffdb21b"
      },
      "source": [
        "特徴量変数間の相関を確認することで多重共線性の確認もできます。"
      ]
    },
    {
      "cell_type": "code",
      "execution_count": 13,
      "id": "c64cde42-5e06-4e0f-8313-511f7df3bda1",
      "metadata": {
        "tags": [],
        "id": "c64cde42-5e06-4e0f-8313-511f7df3bda1"
      },
      "outputs": [],
      "source": [
        "# データの可視化\n",
        "# sns.pairplot(df, hue = \"RM\", diag_kind = \"hist\")\n",
        "# plt.show()"
      ]
    },
    {
      "cell_type": "code",
      "execution_count": 14,
      "id": "ca5f5db5-96a2-4be0-abae-ffd31a96ff71",
      "metadata": {
        "tags": [],
        "colab": {
          "base_uri": "https://localhost:8080/",
          "height": 350
        },
        "id": "ca5f5db5-96a2-4be0-abae-ffd31a96ff71",
        "outputId": "30cc3e16-2347-4411-86fa-1b95c36c068d"
      },
      "outputs": [
        {
          "output_type": "stream",
          "name": "stderr",
          "text": [
            "/usr/local/lib/python3.7/dist-packages/seaborn/_decorators.py:43: FutureWarning: Pass the following variables as keyword args: x, y. From version 0.12, the only valid positional argument will be `data`, and passing other arguments without an explicit keyword will result in an error or misinterpretation.\n",
            "  FutureWarning\n"
          ]
        },
        {
          "output_type": "execute_result",
          "data": {
            "text/plain": [
              "<matplotlib.axes._subplots.AxesSubplot at 0x7f6855393fd0>"
            ]
          },
          "metadata": {},
          "execution_count": 14
        },
        {
          "output_type": "display_data",
          "data": {
            "image/png": "[encoded data removed]",
            "text/plain": [
              "<Figure size 432x288 with 1 Axes>"
            ]
          },
          "metadata": {
            "needs_background": "light"
          }
        }
      ],
      "source": [
        "sns.regplot(\"CRIM\", \"MEDV\", data = df)"
      ]
    },
    {
      "cell_type": "code",
      "execution_count": 15,
      "id": "980c8141-fdf0-4dd4-871a-24cc4aecade2",
      "metadata": {
        "tags": [],
        "colab": {
          "base_uri": "https://localhost:8080/",
          "height": 350
        },
        "id": "980c8141-fdf0-4dd4-871a-24cc4aecade2",
        "outputId": "2dc81ee3-6c2f-4180-8657-8c0044bbc3ce"
      },
      "outputs": [
        {
          "output_type": "stream",
          "name": "stderr",
          "text": [
            "/usr/local/lib/python3.7/dist-packages/seaborn/_decorators.py:43: FutureWarning: Pass the following variables as keyword args: x, y. From version 0.12, the only valid positional argument will be `data`, and passing other arguments without an explicit keyword will result in an error or misinterpretation.\n",
            "  FutureWarning\n"
          ]
        },
        {
          "output_type": "execute_result",
          "data": {
            "text/plain": [
              "<matplotlib.axes._subplots.AxesSubplot at 0x7f6855393690>"
            ]
          },
          "metadata": {},
          "execution_count": 15
        },
        {
          "output_type": "display_data",
          "data": {
            "image/png": "[encoded data removed]",
            "text/plain": [
              "<Figure size 432x288 with 1 Axes>"
            ]
          },
          "metadata": {
            "needs_background": "light"
          }
        }
      ],
      "source": [
        "sns.regplot(\"ZN\", \"MEDV\", data = df)"
      ]
    },
    {
      "cell_type": "code",
      "execution_count": 16,
      "id": "0141ea84-2e40-4506-803c-5ffbb1b3c168",
      "metadata": {
        "tags": [],
        "colab": {
          "base_uri": "https://localhost:8080/",
          "height": 350
        },
        "id": "0141ea84-2e40-4506-803c-5ffbb1b3c168",
        "outputId": "bf418192-b7cf-4fdb-9938-4bff51ab911d"
      },
      "outputs": [
        {
          "output_type": "stream",
          "name": "stderr",
          "text": [
            "/usr/local/lib/python3.7/dist-packages/seaborn/_decorators.py:43: FutureWarning: Pass the following variables as keyword args: x, y. From version 0.12, the only valid positional argument will be `data`, and passing other arguments without an explicit keyword will result in an error or misinterpretation.\n",
            "  FutureWarning\n"
          ]
        },
        {
          "output_type": "execute_result",
          "data": {
            "text/plain": [
              "<matplotlib.axes._subplots.AxesSubplot at 0x7f6853a9bc90>"
            ]
          },
          "metadata": {},
          "execution_count": 16
        },
        {
          "output_type": "display_data",
          "data": {
            "image/png": "[encoded data removed]",
            "text/plain": [
              "<Figure size 432x288 with 1 Axes>"
            ]
          },
          "metadata": {
            "needs_background": "light"
          }
        }
      ],
      "source": [
        "sns.regplot(\"INDUS\", \"MEDV\", data = df)"
      ]
    },
    {
      "cell_type": "code",
      "execution_count": 17,
      "id": "8d6c3712-0795-46b7-ab60-ba0d4eecb9f7",
      "metadata": {
        "tags": [],
        "colab": {
          "base_uri": "https://localhost:8080/",
          "height": 350
        },
        "id": "8d6c3712-0795-46b7-ab60-ba0d4eecb9f7",
        "outputId": "a369f681-3850-498c-fb64-1b07154b9694"
      },
      "outputs": [
        {
          "output_type": "stream",
          "name": "stderr",
          "text": [
            "/usr/local/lib/python3.7/dist-packages/seaborn/_decorators.py:43: FutureWarning: Pass the following variables as keyword args: x, y. From version 0.12, the only valid positional argument will be `data`, and passing other arguments without an explicit keyword will result in an error or misinterpretation.\n",
            "  FutureWarning\n"
          ]
        },
        {
          "output_type": "execute_result",
          "data": {
            "text/plain": [
              "<matplotlib.axes._subplots.AxesSubplot at 0x7f68539ffe90>"
            ]
          },
          "metadata": {},
          "execution_count": 17
        },
        {
          "output_type": "display_data",
          "data": {
            "image/png": "[encoded data removed]",
            "text/plain": [
              "<Figure size 432x288 with 1 Axes>"
            ]
          },
          "metadata": {
            "needs_background": "light"
          }
        }
      ],
      "source": [
        "sns.regplot(\"CHAS\", \"MEDV\", data = df)"
      ]
    },
    {
      "cell_type": "code",
      "execution_count": 18,
      "id": "a7aa1d50-0e92-4865-95e6-689c415fb86b",
      "metadata": {
        "tags": [],
        "colab": {
          "base_uri": "https://localhost:8080/",
          "height": 350
        },
        "id": "a7aa1d50-0e92-4865-95e6-689c415fb86b",
        "outputId": "9e01f594-a0ec-4042-dc49-e616926584d4"
      },
      "outputs": [
        {
          "output_type": "stream",
          "name": "stderr",
          "text": [
            "/usr/local/lib/python3.7/dist-packages/seaborn/_decorators.py:43: FutureWarning: Pass the following variables as keyword args: x, y. From version 0.12, the only valid positional argument will be `data`, and passing other arguments without an explicit keyword will result in an error or misinterpretation.\n",
            "  FutureWarning\n"
          ]
        },
        {
          "output_type": "execute_result",
          "data": {
            "text/plain": [
              "<matplotlib.axes._subplots.AxesSubplot at 0x7f68539f2e10>"
            ]
          },
          "metadata": {},
          "execution_count": 18
        },
        {
          "output_type": "display_data",
          "data": {
            "image/png": "[encoded data removed]",
            "text/plain": [
              "<Figure size 432x288 with 1 Axes>"
            ]
          },
          "metadata": {
            "needs_background": "light"
          }
        }
      ],
      "source": [
        "sns.regplot(\"NOX\", \"MEDV\", data = df)"
      ]
    },
    {
      "cell_type": "code",
      "execution_count": 19,
      "id": "99f9e95c-7827-47f6-bb8a-a87ed0f12565",
      "metadata": {
        "tags": [],
        "colab": {
          "base_uri": "https://localhost:8080/",
          "height": 350
        },
        "id": "99f9e95c-7827-47f6-bb8a-a87ed0f12565",
        "outputId": "1c49c5bb-9538-41e3-b1c5-da02b91ca916"
      },
      "outputs": [
        {
          "output_type": "stream",
          "name": "stderr",
          "text": [
            "/usr/local/lib/python3.7/dist-packages/seaborn/_decorators.py:43: FutureWarning: Pass the following variables as keyword args: x, y. From version 0.12, the only valid positional argument will be `data`, and passing other arguments without an explicit keyword will result in an error or misinterpretation.\n",
            "  FutureWarning\n"
          ]
        },
        {
          "output_type": "execute_result",
          "data": {
            "text/plain": [
              "<matplotlib.axes._subplots.AxesSubplot at 0x7f685395f890>"
            ]
          },
          "metadata": {},
          "execution_count": 19
        },
        {
          "output_type": "display_data",
          "data": {
            "image/png": "[encoded data removed]",
            "text/plain": [
              "<Figure size 432x288 with 1 Axes>"
            ]
          },
          "metadata": {
            "needs_background": "light"
          }
        }
      ],
      "source": [
        "sns.regplot(\"INDUS\", \"NOX\", data = df)"
      ]
    },
    {
      "cell_type": "code",
      "execution_count": 20,
      "id": "abef3c8e-ed40-4dd2-b309-5670758deffe",
      "metadata": {
        "tags": [],
        "colab": {
          "base_uri": "https://localhost:8080/",
          "height": 350
        },
        "id": "abef3c8e-ed40-4dd2-b309-5670758deffe",
        "outputId": "1f9fe735-0a73-41e2-9cb0-79e899faafb0"
      },
      "outputs": [
        {
          "output_type": "stream",
          "name": "stderr",
          "text": [
            "/usr/local/lib/python3.7/dist-packages/seaborn/_decorators.py:43: FutureWarning: Pass the following variables as keyword args: x, y. From version 0.12, the only valid positional argument will be `data`, and passing other arguments without an explicit keyword will result in an error or misinterpretation.\n",
            "  FutureWarning\n"
          ]
        },
        {
          "output_type": "execute_result",
          "data": {
            "text/plain": [
              "<matplotlib.axes._subplots.AxesSubplot at 0x7f68553c41d0>"
            ]
          },
          "metadata": {},
          "execution_count": 20
        },
        {
          "output_type": "display_data",
          "data": {
            "image/png": "[encoded data removed]",
            "text/plain": [
              "<Figure size 432x288 with 1 Axes>"
            ]
          },
          "metadata": {
            "needs_background": "light"
          }
        }
      ],
      "source": [
        "sns.regplot(\"AGE\", \"MEDV\", data = df)"
      ]
    },
    {
      "cell_type": "code",
      "execution_count": 21,
      "id": "b5e2b34b-3c33-4970-8f89-67cddd24c9ec",
      "metadata": {
        "tags": [],
        "colab": {
          "base_uri": "https://localhost:8080/",
          "height": 350
        },
        "id": "b5e2b34b-3c33-4970-8f89-67cddd24c9ec",
        "outputId": "81f42d07-5039-4fd9-e64c-d317811480df"
      },
      "outputs": [
        {
          "output_type": "stream",
          "name": "stderr",
          "text": [
            "/usr/local/lib/python3.7/dist-packages/seaborn/_decorators.py:43: FutureWarning: Pass the following variables as keyword args: x, y. From version 0.12, the only valid positional argument will be `data`, and passing other arguments without an explicit keyword will result in an error or misinterpretation.\n",
            "  FutureWarning\n"
          ]
        },
        {
          "output_type": "execute_result",
          "data": {
            "text/plain": [
              "<matplotlib.axes._subplots.AxesSubplot at 0x7f6853b79350>"
            ]
          },
          "metadata": {},
          "execution_count": 21
        },
        {
          "output_type": "display_data",
          "data": {
            "image/png": "[encoded data removed]",
            "text/plain": [
              "<Figure size 432x288 with 1 Axes>"
            ]
          },
          "metadata": {
            "needs_background": "light"
          }
        }
      ],
      "source": [
        "sns.regplot(\"DIS\", \"MEDV\", data = df)"
      ]
    },
    {
      "cell_type": "code",
      "execution_count": 22,
      "id": "a8aec2c2-928f-4d0d-ba26-e4aba1a0df8c",
      "metadata": {
        "tags": [],
        "colab": {
          "base_uri": "https://localhost:8080/",
          "height": 350
        },
        "id": "a8aec2c2-928f-4d0d-ba26-e4aba1a0df8c",
        "outputId": "3e377812-b20c-42dc-85f7-e0ee8931cf19"
      },
      "outputs": [
        {
          "output_type": "stream",
          "name": "stderr",
          "text": [
            "/usr/local/lib/python3.7/dist-packages/seaborn/_decorators.py:43: FutureWarning: Pass the following variables as keyword args: x, y. From version 0.12, the only valid positional argument will be `data`, and passing other arguments without an explicit keyword will result in an error or misinterpretation.\n",
            "  FutureWarning\n"
          ]
        },
        {
          "output_type": "execute_result",
          "data": {
            "text/plain": [
              "<matplotlib.axes._subplots.AxesSubplot at 0x7f685384f910>"
            ]
          },
          "metadata": {},
          "execution_count": 22
        },
        {
          "output_type": "display_data",
          "data": {
            "image/png": "[encoded data removed]",
            "text/plain": [
              "<Figure size 432x288 with 1 Axes>"
            ]
          },
          "metadata": {
            "needs_background": "light"
          }
        }
      ],
      "source": [
        "sns.regplot(\"RAD\", \"MEDV\", data = df)"
      ]
    },
    {
      "cell_type": "code",
      "execution_count": 23,
      "id": "368b0f98-7eec-4ef5-8050-edbc5b41a95d",
      "metadata": {
        "tags": [],
        "colab": {
          "base_uri": "https://localhost:8080/",
          "height": 350
        },
        "id": "368b0f98-7eec-4ef5-8050-edbc5b41a95d",
        "outputId": "d5a84983-2fdb-4b72-cf86-9096e9569036"
      },
      "outputs": [
        {
          "output_type": "stream",
          "name": "stderr",
          "text": [
            "/usr/local/lib/python3.7/dist-packages/seaborn/_decorators.py:43: FutureWarning: Pass the following variables as keyword args: x, y. From version 0.12, the only valid positional argument will be `data`, and passing other arguments without an explicit keyword will result in an error or misinterpretation.\n",
            "  FutureWarning\n"
          ]
        },
        {
          "output_type": "execute_result",
          "data": {
            "text/plain": [
              "<matplotlib.axes._subplots.AxesSubplot at 0x7f68538364d0>"
            ]
          },
          "metadata": {},
          "execution_count": 23
        },
        {
          "output_type": "display_data",
          "data": {
            "image/png": "[encoded data removed]",
            "text/plain": [
              "<Figure size 432x288 with 1 Axes>"
            ]
          },
          "metadata": {
            "needs_background": "light"
          }
        }
      ],
      "source": [
        "sns.regplot(\"TAX\", \"MEDV\", data = df)"
      ]
    },
    {
      "cell_type": "code",
      "execution_count": 24,
      "id": "f0adef46-cc6e-485d-af8e-95078df520b2",
      "metadata": {
        "tags": [],
        "colab": {
          "base_uri": "https://localhost:8080/",
          "height": 350
        },
        "id": "f0adef46-cc6e-485d-af8e-95078df520b2",
        "outputId": "6e4c716d-009c-49a9-b7c5-53ac2eeabdee"
      },
      "outputs": [
        {
          "output_type": "stream",
          "name": "stderr",
          "text": [
            "/usr/local/lib/python3.7/dist-packages/seaborn/_decorators.py:43: FutureWarning: Pass the following variables as keyword args: x, y. From version 0.12, the only valid positional argument will be `data`, and passing other arguments without an explicit keyword will result in an error or misinterpretation.\n",
            "  FutureWarning\n"
          ]
        },
        {
          "output_type": "execute_result",
          "data": {
            "text/plain": [
              "<matplotlib.axes._subplots.AxesSubplot at 0x7f68537b0710>"
            ]
          },
          "metadata": {},
          "execution_count": 24
        },
        {
          "output_type": "display_data",
          "data": {
            "image/png": "[encoded data removed]",
            "text/plain": [
              "<Figure size 432x288 with 1 Axes>"
            ]
          },
          "metadata": {
            "needs_background": "light"
          }
        }
      ],
      "source": [
        "sns.regplot(\"PTRATIO\", \"MEDV\", data = df)"
      ]
    },
    {
      "cell_type": "code",
      "execution_count": 25,
      "id": "f24f35a2-c873-4211-8652-5a8665ae96ae",
      "metadata": {
        "tags": [],
        "colab": {
          "base_uri": "https://localhost:8080/",
          "height": 350
        },
        "id": "f24f35a2-c873-4211-8652-5a8665ae96ae",
        "outputId": "fd84848b-5c52-47b7-de44-75a65da5855e"
      },
      "outputs": [
        {
          "output_type": "stream",
          "name": "stderr",
          "text": [
            "/usr/local/lib/python3.7/dist-packages/seaborn/_decorators.py:43: FutureWarning: Pass the following variables as keyword args: x, y. From version 0.12, the only valid positional argument will be `data`, and passing other arguments without an explicit keyword will result in an error or misinterpretation.\n",
            "  FutureWarning\n"
          ]
        },
        {
          "output_type": "execute_result",
          "data": {
            "text/plain": [
              "<matplotlib.axes._subplots.AxesSubplot at 0x7f685370b550>"
            ]
          },
          "metadata": {},
          "execution_count": 25
        },
        {
          "output_type": "display_data",
          "data": {
            "image/png": "[encoded data removed]",
            "text/plain": [
              "<Figure size 432x288 with 1 Axes>"
            ]
          },
          "metadata": {
            "needs_background": "light"
          }
        }
      ],
      "source": [
        "sns.regplot(\"B\", \"MEDV\", data = df)"
      ]
    },
    {
      "cell_type": "code",
      "execution_count": 26,
      "id": "f0eb6aaf-c224-4929-8ee0-ea2814687b06",
      "metadata": {
        "tags": [],
        "colab": {
          "base_uri": "https://localhost:8080/",
          "height": 350
        },
        "id": "f0eb6aaf-c224-4929-8ee0-ea2814687b06",
        "outputId": "3cd821cb-bca6-47da-c385-5b026be2f855"
      },
      "outputs": [
        {
          "output_type": "stream",
          "name": "stderr",
          "text": [
            "/usr/local/lib/python3.7/dist-packages/seaborn/_decorators.py:43: FutureWarning: Pass the following variables as keyword args: x, y. From version 0.12, the only valid positional argument will be `data`, and passing other arguments without an explicit keyword will result in an error or misinterpretation.\n",
            "  FutureWarning\n"
          ]
        },
        {
          "output_type": "execute_result",
          "data": {
            "text/plain": [
              "<matplotlib.axes._subplots.AxesSubplot at 0x7f68536d5090>"
            ]
          },
          "metadata": {},
          "execution_count": 26
        },
        {
          "output_type": "display_data",
          "data": {
            "image/png": "[encoded data removed]",
            "text/plain": [
              "<Figure size 432x288 with 1 Axes>"
            ]
          },
          "metadata": {
            "needs_background": "light"
          }
        }
      ],
      "source": [
        "sns.regplot(\"LSTAT\", \"MEDV\", data = df)"
      ]
    },
    {
      "cell_type": "markdown",
      "id": "43b0c258-07b4-4c8f-9605-ee3727a9d4eb",
      "metadata": {
        "id": "43b0c258-07b4-4c8f-9605-ee3727a9d4eb"
      },
      "source": [
        "【考察】\n",
        "* CRIM -0.39(犯罪率)と負の相関があり、犯罪率が増えると価格は安くなることも予測できる\n",
        "* ZN 0.36と正の相関があり、敷地面積の割合が高いほど価格が向上する傾向がある\n",
        "* INDUS −0.48と負の相関があり、小売業（商業施設やスーパー、ドラッグストアなど）があるほど家賃は高い傾向にあり、非小売業（工場やオフィスビルなど、、、区別できないことにより都会か田舎かの判断ができないので価格にブレがある）が多くなると価格の中央値は下がる傾向にある\n",
        "* CHAS 0:川に面していない　1:川に面している　関係はなさそうなので説明変数から除外する\n",
        "* NOX 工場に近いことでNOXが増加し、商業施設が相対的に少ないため、家賃の低下が観測できる\n",
        "* INDUS + NOX 0.76と強い相関があることがわかる。よって非小売業者の70%以上は工場や廃棄物処理場などの燃焼を行う場所の可能性が高まりまる。\n",
        "* RM 0.7と正の相関が比較的強く、部屋数が増えることで価格は高くなることが予測できる\n",
        "* AGE　古い物件ほど家賃は安い（直感に反しているデータはおそらくリノベーションしている）\n",
        "* DIS　通勤時間と関連性あり？（データが分散しているため除外）\n",
        "* RAD　おそらく利便性の高さ？（扱いが難しいので除外）\n",
        "* TAX　直感的に理解できないデータのため除外\n",
        "* PTRATIO　生徒が少ないほど住宅価格は減少、つまり過疎化が進んでいる地域は低価格\n",
        "* B　時代背景が不明なので邪推したくないため除外\n",
        "* LSTAT 労働者階級が低いあるいは人的地位が低い人が多い土地ほど住宅価格の中央値が減少の傾向にある"
      ]
    },
    {
      "cell_type": "markdown",
      "id": "017d307b-1294-41f6-b82c-6e239ef280d1",
      "metadata": {
        "id": "017d307b-1294-41f6-b82c-6e239ef280d1"
      },
      "source": [
        "# 線形単回帰分析"
      ]
    },
    {
      "cell_type": "code",
      "execution_count": 27,
      "id": "bd8ba449-0955-4dc7-8b09-aac0379d7d6d",
      "metadata": {
        "colab": {
          "base_uri": "https://localhost:8080/",
          "height": 204
        },
        "id": "bd8ba449-0955-4dc7-8b09-aac0379d7d6d",
        "outputId": "9f50b33b-fbea-4e95-8635-3f876f181c38"
      },
      "outputs": [
        {
          "output_type": "execute_result",
          "data": {
            "text/html": [
              "\n",
              "  <div id=\"df-b355c616-6a24-4961-b17a-b9b569f3c1cc\">\n",
              "    <div class=\"colab-df-container\">\n",
              "      <div>\n",
              "<style scoped>\n",
              "    .dataframe tbody tr th:only-of-type {\n",
              "        vertical-align: middle;\n",
              "    }\n",
              "\n",
              "    .dataframe tbody tr th {\n",
              "        vertical-align: top;\n",
              "    }\n",
              "\n",
              "    .dataframe thead th {\n",
              "        text-align: right;\n",
              "    }\n",
              "</style>\n",
              "<table border=\"1\" class=\"dataframe\">\n",
              "  <thead>\n",
              "    <tr style=\"text-align: right;\">\n",
              "      <th></th>\n",
              "      <th>RM</th>\n",
              "    </tr>\n",
              "  </thead>\n",
              "  <tbody>\n",
              "    <tr>\n",
              "      <th>0</th>\n",
              "      <td>6.575</td>\n",
              "    </tr>\n",
              "    <tr>\n",
              "      <th>1</th>\n",
              "      <td>6.421</td>\n",
              "    </tr>\n",
              "    <tr>\n",
              "      <th>2</th>\n",
              "      <td>7.185</td>\n",
              "    </tr>\n",
              "    <tr>\n",
              "      <th>3</th>\n",
              "      <td>6.998</td>\n",
              "    </tr>\n",
              "    <tr>\n",
              "      <th>4</th>\n",
              "      <td>7.147</td>\n",
              "    </tr>\n",
              "  </tbody>\n",
              "</table>\n",
              "</div>\n",
              "      <button class=\"colab-df-convert\" onclick=\"convertToInteractive('df-b355c616-6a24-4961-b17a-b9b569f3c1cc')\"\n",
              "              title=\"Convert this dataframe to an interactive table.\"\n",
              "              style=\"display:none;\">\n",
              "        \n",
              "  <svg xmlns=\"http://www.w3.org/2000/svg\" height=\"24px\"viewBox=\"0 0 24 24\"\n",
              "       width=\"24px\">\n",
              "    <path d=\"M0 0h24v24H0V0z\" fill=\"none\"/>\n",
              "    <path d=\"M18.56 5.44l.94 2.06.94-2.06 2.06-.94-2.06-.94-.94-2.06-.94 2.06-2.06.94zm-11 1L8.5 8.5l.94-2.06 2.06-.94-2.06-.94L8.5 2.5l-.94 2.06-2.06.94zm10 10l.94 2.06.94-2.06 2.06-.94-2.06-.94-.94-2.06-.94 2.06-2.06.94z\"/><path d=\"M17.41 7.96l-1.37-1.37c-.4-.4-.92-.59-1.43-.59-.52 0-1.04.2-1.43.59L10.3 9.45l-7.72 7.72c-.78.78-.78 2.05 0 2.83L4 21.41c.39.39.9.59 1.41.59.51 0 1.02-.2 1.41-.59l7.78-7.78 2.81-2.81c.8-.78.8-2.07 0-2.86zM5.41 20L4 18.59l7.72-7.72 1.47 1.35L5.41 20z\"/>\n",
              "  </svg>\n",
              "      </button>\n",
              "      \n",
              "  <style>\n",
              "    .colab-df-container {\n",
              "      display:flex;\n",
              "      flex-wrap:wrap;\n",
              "      gap: 12px;\n",
              "    }\n",
              "\n",
              "    .colab-df-convert {\n",
              "      background-color: #E8F0FE;\n",
              "      border: none;\n",
              "      border-radius: 50%;\n",
              "      cursor: pointer;\n",
              "      display: none;\n",
              "      fill: #1967D2;\n",
              "      height: 32px;\n",
              "      padding: 0 0 0 0;\n",
              "      width: 32px;\n",
              "    }\n",
              "\n",
              "    .colab-df-convert:hover {\n",
              "      background-color: #E2EBFA;\n",
              "      box-shadow: 0px 1px 2px rgba(60, 64, 67, 0.3), 0px 1px 3px 1px rgba(60, 64, 67, 0.15);\n",
              "      fill: #174EA6;\n",
              "    }\n",
              "\n",
              "    [theme=dark] .colab-df-convert {\n",
              "      background-color: #3B4455;\n",
              "      fill: #D2E3FC;\n",
              "    }\n",
              "\n",
              "    [theme=dark] .colab-df-convert:hover {\n",
              "      background-color: #434B5C;\n",
              "      box-shadow: 0px 1px 3px 1px rgba(0, 0, 0, 0.15);\n",
              "      filter: drop-shadow(0px 1px 2px rgba(0, 0, 0, 0.3));\n",
              "      fill: #FFFFFF;\n",
              "    }\n",
              "  </style>\n",
              "\n",
              "      <script>\n",
              "        const buttonEl =\n",
              "          document.querySelector('#df-b355c616-6a24-4961-b17a-b9b569f3c1cc button.colab-df-convert');\n",
              "        buttonEl.style.display =\n",
              "          google.colab.kernel.accessAllowed ? 'block' : 'none';\n",
              "\n",
              "        async function convertToInteractive(key) {\n",
              "          const element = document.querySelector('#df-b355c616-6a24-4961-b17a-b9b569f3c1cc');\n",
              "          const dataTable =\n",
              "            await google.colab.kernel.invokeFunction('convertToInteractive',\n",
              "                                                     [key], {});\n",
              "          if (!dataTable) return;\n",
              "\n",
              "          const docLinkHtml = 'Like what you see? Visit the ' +\n",
              "            '<a target=\"_blank\" href=https://colab.research.google.com/notebooks/data_table.ipynb>data table notebook</a>'\n",
              "            + ' to learn more about interactive tables.';\n",
              "          element.innerHTML = '';\n",
              "          dataTable['output_type'] = 'display_data';\n",
              "          await google.colab.output.renderOutput(dataTable, element);\n",
              "          const docLink = document.createElement('div');\n",
              "          docLink.innerHTML = docLinkHtml;\n",
              "          element.appendChild(docLink);\n",
              "        }\n",
              "      </script>\n",
              "    </div>\n",
              "  </div>\n",
              "  "
            ],
            "text/plain": [
              "      RM\n",
              "0  6.575\n",
              "1  6.421\n",
              "2  7.185\n",
              "3  6.998\n",
              "4  7.147"
            ]
          },
          "metadata": {},
          "execution_count": 27
        }
      ],
      "source": [
        "# カラムを指定してデータを表示\n",
        "df[['RM']].head()"
      ]
    },
    {
      "cell_type": "code",
      "execution_count": 28,
      "id": "7a1028b4-008b-462b-ac73-3e5c397e23ef",
      "metadata": {
        "colab": {
          "base_uri": "https://localhost:8080/"
        },
        "id": "7a1028b4-008b-462b-ac73-3e5c397e23ef",
        "outputId": "3c798e52-55e1-47eb-f8f4-67a1a8adbd83"
      },
      "outputs": [
        {
          "output_type": "execute_result",
          "data": {
            "text/plain": [
              "array([[6.575],\n",
              "       [6.421],\n",
              "       [7.185],\n",
              "       [6.998],\n",
              "       [7.147]])"
            ]
          },
          "metadata": {},
          "execution_count": 28
        }
      ],
      "source": [
        "# 説明変数\n",
        "data = df.loc[:, ['RM']].values\n",
        "# データのリストを表示\n",
        "data[0:5]"
      ]
    },
    {
      "cell_type": "code",
      "execution_count": 29,
      "id": "93b6da22-7674-4a57-8e9a-a09858cabbbf",
      "metadata": {
        "colab": {
          "base_uri": "https://localhost:8080/"
        },
        "id": "93b6da22-7674-4a57-8e9a-a09858cabbbf",
        "outputId": "48a30dc1-5a83-46ef-d57e-8826fe613026"
      },
      "outputs": [
        {
          "output_type": "execute_result",
          "data": {
            "text/plain": [
              "array([24. , 21.6, 34.7, 33.4, 36.2])"
            ]
          },
          "metadata": {},
          "execution_count": 29
        }
      ],
      "source": [
        "# 目的変数\n",
        "target = df.loc[:, 'MEDV'].values\n",
        "target[0:5]"
      ]
    },
    {
      "cell_type": "code",
      "execution_count": 30,
      "id": "28c2b833-fb84-4e1f-bdcf-bc5778f1c695",
      "metadata": {
        "id": "28c2b833-fb84-4e1f-bdcf-bc5778f1c695"
      },
      "outputs": [],
      "source": [
        "# オブジェクト生成\n",
        "model = LinearRegression()\n",
        "model.get_params()\n",
        "model = LinearRegression(fit_intercept = True, # False に設定すると切片を求める計算を含めない。目的変数が原点を必ず通る性質のデータを扱うときに利用。 (デフォルト値: True)\n",
        "                         normalize = False, # True に設定すると、説明変数を事前に正規化する。 (デフォルト値: False)\n",
        "                         copy_X = True, # メモリ内でデータを複製してから実行するかどうか。 (デフォルト値: True)\n",
        "                         n_jobs = 1) # 計算に使うジョブの数。-1 に設定すると、すべての CPU を使って計算する。 (デフォルト値: 1)"
      ]
    },
    {
      "cell_type": "code",
      "execution_count": 31,
      "id": "0b5ef97c-4d77-4069-b0e9-0a719c45406f",
      "metadata": {
        "colab": {
          "base_uri": "https://localhost:8080/"
        },
        "id": "0b5ef97c-4d77-4069-b0e9-0a719c45406f",
        "outputId": "65b412e5-c74f-4f87-c4eb-d64802a69a75"
      },
      "outputs": [
        {
          "output_type": "stream",
          "name": "stderr",
          "text": [
            "/usr/local/lib/python3.7/dist-packages/sklearn/linear_model/_base.py:155: FutureWarning: 'normalize' was deprecated in version 1.0 and will be removed in 1.2. Please leave the normalize parameter to its default value to silence this warning. The default behavior of this estimator is to not do any normalization. If normalization is needed please use sklearn.preprocessing.StandardScaler instead.\n",
            "  FutureWarning,\n"
          ]
        },
        {
          "output_type": "execute_result",
          "data": {
            "text/plain": [
              "LinearRegression(n_jobs=1, normalize=False)"
            ]
          },
          "metadata": {},
          "execution_count": 31
        }
      ],
      "source": [
        "model.fit(data, target)"
      ]
    },
    {
      "cell_type": "code",
      "execution_count": 32,
      "id": "c1474750-eb6b-42f4-899e-e8f856ca9973",
      "metadata": {
        "colab": {
          "base_uri": "https://localhost:8080/"
        },
        "id": "c1474750-eb6b-42f4-899e-e8f856ca9973",
        "outputId": "a077152f-5a76-4bfc-d036-93c14f6f234f"
      },
      "outputs": [
        {
          "output_type": "execute_result",
          "data": {
            "text/plain": [
              "array([-25.5685118])"
            ]
          },
          "metadata": {},
          "execution_count": 32
        }
      ],
      "source": [
        "# 部屋数が1つの時\n",
        "model.predict([[1]])"
      ]
    },
    {
      "cell_type": "code",
      "execution_count": 33,
      "id": "57440610-4081-4715-98cc-ef5f11e97933",
      "metadata": {
        "colab": {
          "base_uri": "https://localhost:8080/"
        },
        "id": "57440610-4081-4715-98cc-ef5f11e97933",
        "outputId": "f097588f-80e8-4d63-91c5-f6aa2c8d4055"
      },
      "outputs": [
        {
          "output_type": "execute_result",
          "data": {
            "text/plain": [
              "array([29.04414209])"
            ]
          },
          "metadata": {},
          "execution_count": 33
        }
      ],
      "source": [
        "# 予測 部屋数が7つのときの値段\n",
        "model.predict([[7]])"
      ]
    },
    {
      "cell_type": "code",
      "execution_count": 34,
      "id": "cbc7921a-fd7b-450b-a691-1b62a7c733b8",
      "metadata": {
        "colab": {
          "base_uri": "https://localhost:8080/"
        },
        "id": "cbc7921a-fd7b-450b-a691-1b62a7c733b8",
        "outputId": "9be474ab-3ee9-489b-e9fb-33b20bc86ee9"
      },
      "outputs": [
        {
          "output_type": "stream",
          "name": "stdout",
          "text": [
            "推定された回帰係数: 9.102, 推定された切片 : -34.671\n"
          ]
        }
      ],
      "source": [
        "# 単回帰の回帰係数と切片を出力\n",
        "print('推定された回帰係数: %.3f, 推定された切片 : %.3f' % (model.coef_, model.intercept_))"
      ]
    },
    {
      "cell_type": "markdown",
      "id": "e65763f4-1247-43d4-aead-8c62f08060f0",
      "metadata": {
        "tags": [],
        "id": "e65763f4-1247-43d4-aead-8c62f08060f0"
      },
      "source": [
        "# 重回帰分析（2変数）"
      ]
    },
    {
      "cell_type": "code",
      "execution_count": 35,
      "id": "ba02c804-3375-4250-9e15-9fa6ddd01acd",
      "metadata": {
        "colab": {
          "base_uri": "https://localhost:8080/",
          "height": 204
        },
        "id": "ba02c804-3375-4250-9e15-9fa6ddd01acd",
        "outputId": "38e9d920-313e-407a-c414-1c8812eff024"
      },
      "outputs": [
        {
          "output_type": "execute_result",
          "data": {
            "text/html": [
              "\n",
              "  <div id=\"df-adae9a16-6479-449a-8790-fcd8063e5225\">\n",
              "    <div class=\"colab-df-container\">\n",
              "      <div>\n",
              "<style scoped>\n",
              "    .dataframe tbody tr th:only-of-type {\n",
              "        vertical-align: middle;\n",
              "    }\n",
              "\n",
              "    .dataframe tbody tr th {\n",
              "        vertical-align: top;\n",
              "    }\n",
              "\n",
              "    .dataframe thead th {\n",
              "        text-align: right;\n",
              "    }\n",
              "</style>\n",
              "<table border=\"1\" class=\"dataframe\">\n",
              "  <thead>\n",
              "    <tr style=\"text-align: right;\">\n",
              "      <th></th>\n",
              "      <th>CRIM</th>\n",
              "      <th>RM</th>\n",
              "    </tr>\n",
              "  </thead>\n",
              "  <tbody>\n",
              "    <tr>\n",
              "      <th>0</th>\n",
              "      <td>0.00632</td>\n",
              "      <td>6.575</td>\n",
              "    </tr>\n",
              "    <tr>\n",
              "      <th>1</th>\n",
              "      <td>0.02731</td>\n",
              "      <td>6.421</td>\n",
              "    </tr>\n",
              "    <tr>\n",
              "      <th>2</th>\n",
              "      <td>0.02729</td>\n",
              "      <td>7.185</td>\n",
              "    </tr>\n",
              "    <tr>\n",
              "      <th>3</th>\n",
              "      <td>0.03237</td>\n",
              "      <td>6.998</td>\n",
              "    </tr>\n",
              "    <tr>\n",
              "      <th>4</th>\n",
              "      <td>0.06905</td>\n",
              "      <td>7.147</td>\n",
              "    </tr>\n",
              "  </tbody>\n",
              "</table>\n",
              "</div>\n",
              "      <button class=\"colab-df-convert\" onclick=\"convertToInteractive('df-adae9a16-6479-449a-8790-fcd8063e5225')\"\n",
              "              title=\"Convert this dataframe to an interactive table.\"\n",
              "              style=\"display:none;\">\n",
              "        \n",
              "  <svg xmlns=\"http://www.w3.org/2000/svg\" height=\"24px\"viewBox=\"0 0 24 24\"\n",
              "       width=\"24px\">\n",
              "    <path d=\"M0 0h24v24H0V0z\" fill=\"none\"/>\n",
              "    <path d=\"M18.56 5.44l.94 2.06.94-2.06 2.06-.94-2.06-.94-.94-2.06-.94 2.06-2.06.94zm-11 1L8.5 8.5l.94-2.06 2.06-.94-2.06-.94L8.5 2.5l-.94 2.06-2.06.94zm10 10l.94 2.06.94-2.06 2.06-.94-2.06-.94-.94-2.06-.94 2.06-2.06.94z\"/><path d=\"M17.41 7.96l-1.37-1.37c-.4-.4-.92-.59-1.43-.59-.52 0-1.04.2-1.43.59L10.3 9.45l-7.72 7.72c-.78.78-.78 2.05 0 2.83L4 21.41c.39.39.9.59 1.41.59.51 0 1.02-.2 1.41-.59l7.78-7.78 2.81-2.81c.8-.78.8-2.07 0-2.86zM5.41 20L4 18.59l7.72-7.72 1.47 1.35L5.41 20z\"/>\n",
              "  </svg>\n",
              "      </button>\n",
              "      \n",
              "  <style>\n",
              "    .colab-df-container {\n",
              "      display:flex;\n",
              "      flex-wrap:wrap;\n",
              "      gap: 12px;\n",
              "    }\n",
              "\n",
              "    .colab-df-convert {\n",
              "      background-color: #E8F0FE;\n",
              "      border: none;\n",
              "      border-radius: 50%;\n",
              "      cursor: pointer;\n",
              "      display: none;\n",
              "      fill: #1967D2;\n",
              "      height: 32px;\n",
              "      padding: 0 0 0 0;\n",
              "      width: 32px;\n",
              "    }\n",
              "\n",
              "    .colab-df-convert:hover {\n",
              "      background-color: #E2EBFA;\n",
              "      box-shadow: 0px 1px 2px rgba(60, 64, 67, 0.3), 0px 1px 3px 1px rgba(60, 64, 67, 0.15);\n",
              "      fill: #174EA6;\n",
              "    }\n",
              "\n",
              "    [theme=dark] .colab-df-convert {\n",
              "      background-color: #3B4455;\n",
              "      fill: #D2E3FC;\n",
              "    }\n",
              "\n",
              "    [theme=dark] .colab-df-convert:hover {\n",
              "      background-color: #434B5C;\n",
              "      box-shadow: 0px 1px 3px 1px rgba(0, 0, 0, 0.15);\n",
              "      filter: drop-shadow(0px 1px 2px rgba(0, 0, 0, 0.3));\n",
              "      fill: #FFFFFF;\n",
              "    }\n",
              "  </style>\n",
              "\n",
              "      <script>\n",
              "        const buttonEl =\n",
              "          document.querySelector('#df-adae9a16-6479-449a-8790-fcd8063e5225 button.colab-df-convert');\n",
              "        buttonEl.style.display =\n",
              "          google.colab.kernel.accessAllowed ? 'block' : 'none';\n",
              "\n",
              "        async function convertToInteractive(key) {\n",
              "          const element = document.querySelector('#df-adae9a16-6479-449a-8790-fcd8063e5225');\n",
              "          const dataTable =\n",
              "            await google.colab.kernel.invokeFunction('convertToInteractive',\n",
              "                                                     [key], {});\n",
              "          if (!dataTable) return;\n",
              "\n",
              "          const docLinkHtml = 'Like what you see? Visit the ' +\n",
              "            '<a target=\"_blank\" href=https://colab.research.google.com/notebooks/data_table.ipynb>data table notebook</a>'\n",
              "            + ' to learn more about interactive tables.';\n",
              "          element.innerHTML = '';\n",
              "          dataTable['output_type'] = 'display_data';\n",
              "          await google.colab.output.renderOutput(dataTable, element);\n",
              "          const docLink = document.createElement('div');\n",
              "          docLink.innerHTML = docLinkHtml;\n",
              "          element.appendChild(docLink);\n",
              "        }\n",
              "      </script>\n",
              "    </div>\n",
              "  </div>\n",
              "  "
            ],
            "text/plain": [
              "      CRIM     RM\n",
              "0  0.00632  6.575\n",
              "1  0.02731  6.421\n",
              "2  0.02729  7.185\n",
              "3  0.03237  6.998\n",
              "4  0.06905  7.147"
            ]
          },
          "metadata": {},
          "execution_count": 35
        }
      ],
      "source": [
        "# カラムを指定してデータを表示\n",
        "df[['CRIM', 'RM']].head()"
      ]
    },
    {
      "cell_type": "code",
      "execution_count": 36,
      "id": "897dcb4b-bbdd-4696-a0de-c26d78f414b9",
      "metadata": {
        "colab": {
          "base_uri": "https://localhost:8080/"
        },
        "id": "897dcb4b-bbdd-4696-a0de-c26d78f414b9",
        "outputId": "58d35634-7b32-4a08-b82d-c8d069ddcd82"
      },
      "outputs": [
        {
          "output_type": "execute_result",
          "data": {
            "text/plain": [
              "array([[6.320e-03, 6.575e+00],\n",
              "       [2.731e-02, 6.421e+00],\n",
              "       [2.729e-02, 7.185e+00],\n",
              "       [3.237e-02, 6.998e+00],\n",
              "       [6.905e-02, 7.147e+00]])"
            ]
          },
          "metadata": {},
          "execution_count": 36
        }
      ],
      "source": [
        "# 説明変数\n",
        "data2 = df.loc[:, ['CRIM', 'RM']].values\n",
        "data2[0:5]"
      ]
    },
    {
      "cell_type": "code",
      "execution_count": 37,
      "id": "c87de4e4-cd6c-41a9-a081-8cd3f1358d60",
      "metadata": {
        "colab": {
          "base_uri": "https://localhost:8080/"
        },
        "id": "c87de4e4-cd6c-41a9-a081-8cd3f1358d60",
        "outputId": "aa111dc1-c11d-4276-f10c-a5494f401807"
      },
      "outputs": [
        {
          "output_type": "execute_result",
          "data": {
            "text/plain": [
              "array([24. , 21.6, 34.7, 33.4, 36.2])"
            ]
          },
          "metadata": {},
          "execution_count": 37
        }
      ],
      "source": [
        "# 目的変数\n",
        "target2 = df.loc[:, 'MEDV'].values\n",
        "target2[0:5]"
      ]
    },
    {
      "cell_type": "code",
      "execution_count": 38,
      "id": "febf6330-0ea8-43a6-8255-770679cb268a",
      "metadata": {
        "id": "febf6330-0ea8-43a6-8255-770679cb268a"
      },
      "outputs": [],
      "source": [
        "# オブジェクト生成\n",
        "model2 = LinearRegression()"
      ]
    },
    {
      "cell_type": "code",
      "execution_count": 39,
      "id": "0b428c79-4c7c-4b1c-8087-1cc3c170d770",
      "metadata": {
        "colab": {
          "base_uri": "https://localhost:8080/"
        },
        "id": "0b428c79-4c7c-4b1c-8087-1cc3c170d770",
        "outputId": "d5d7351c-385d-474d-b815-07d9367a6440"
      },
      "outputs": [
        {
          "output_type": "execute_result",
          "data": {
            "text/plain": [
              "LinearRegression()"
            ]
          },
          "metadata": {},
          "execution_count": 39
        }
      ],
      "source": [
        "# fit関数でパラメータ推定\n",
        "model2.fit(data2, target2)"
      ]
    },
    {
      "cell_type": "code",
      "execution_count": 40,
      "id": "5d46fe6b-a43e-44a5-9187-1434e399fc25",
      "metadata": {
        "colab": {
          "base_uri": "https://localhost:8080/"
        },
        "id": "5d46fe6b-a43e-44a5-9187-1434e399fc25",
        "outputId": "cee4f59b-a470-4e32-c447-5824ce834768"
      },
      "outputs": [
        {
          "output_type": "execute_result",
          "data": {
            "text/plain": [
              "array([29.43977562])"
            ]
          },
          "metadata": {},
          "execution_count": 40
        }
      ],
      "source": [
        "# 犯罪率0.2と部屋数7の場合は家賃29万円くらい（単回帰分析とあまり変わらないですね）\n",
        "model2.predict([[0.2, 7]])"
      ]
    },
    {
      "cell_type": "code",
      "execution_count": 41,
      "id": "9bebe1ca-9cb5-4bb9-bc95-f2f68809039b",
      "metadata": {
        "colab": {
          "base_uri": "https://localhost:8080/"
        },
        "id": "9bebe1ca-9cb5-4bb9-bc95-f2f68809039b",
        "outputId": "4e8d094b-e320-44c9-8953-208c329caa76"
      },
      "outputs": [
        {
          "output_type": "execute_result",
          "data": {
            "text/plain": [
              "array([46.27462985])"
            ]
          },
          "metadata": {},
          "execution_count": 41
        }
      ],
      "source": [
        "# 犯罪率0.001と部屋数9の場合は家賃46万円くらい\n",
        "model2.predict([[0.001, 9]])"
      ]
    },
    {
      "cell_type": "code",
      "execution_count": 42,
      "id": "465ff1a9-8097-4129-a76a-3c03c68ce312",
      "metadata": {
        "colab": {
          "base_uri": "https://localhost:8080/"
        },
        "id": "465ff1a9-8097-4129-a76a-3c03c68ce312",
        "outputId": "21330764-f4fb-4b24-ea08-3fba3a1dcd78"
      },
      "outputs": [
        {
          "output_type": "stream",
          "name": "stdout",
          "text": [
            "推定された回帰係数: 9.102, 推定された切片 : -34.671\n"
          ]
        }
      ],
      "source": [
        "# 重回帰の回帰係数と切片を出力\n",
        "print('推定された回帰係数: %.3f, 推定された切片 : %.3f' % (model.coef_, model.intercept_))"
      ]
    },
    {
      "cell_type": "markdown",
      "id": "63cd560d-2b0f-4207-91be-e7f8aa7c5ecd",
      "metadata": {
        "id": "63cd560d-2b0f-4207-91be-e7f8aa7c5ecd"
      },
      "source": [
        "# 重回帰分析 （7変数）"
      ]
    },
    {
      "cell_type": "code",
      "execution_count": 43,
      "id": "b8657669-abd2-4ca1-b59c-7463094ed3e7",
      "metadata": {
        "colab": {
          "base_uri": "https://localhost:8080/",
          "height": 204
        },
        "id": "b8657669-abd2-4ca1-b59c-7463094ed3e7",
        "outputId": "837c7454-3cdf-4002-e659-ee0b04f94e4c"
      },
      "outputs": [
        {
          "output_type": "execute_result",
          "data": {
            "text/html": [
              "\n",
              "  <div id=\"df-978439a0-da39-4cc4-918e-e6d3728d0ed8\">\n",
              "    <div class=\"colab-df-container\">\n",
              "      <div>\n",
              "<style scoped>\n",
              "    .dataframe tbody tr th:only-of-type {\n",
              "        vertical-align: middle;\n",
              "    }\n",
              "\n",
              "    .dataframe tbody tr th {\n",
              "        vertical-align: top;\n",
              "    }\n",
              "\n",
              "    .dataframe thead th {\n",
              "        text-align: right;\n",
              "    }\n",
              "</style>\n",
              "<table border=\"1\" class=\"dataframe\">\n",
              "  <thead>\n",
              "    <tr style=\"text-align: right;\">\n",
              "      <th></th>\n",
              "      <th>CRIM</th>\n",
              "      <th>ZN</th>\n",
              "      <th>INDUS</th>\n",
              "      <th>NOX</th>\n",
              "      <th>RM</th>\n",
              "      <th>PTRATIO</th>\n",
              "      <th>LSTAT</th>\n",
              "    </tr>\n",
              "  </thead>\n",
              "  <tbody>\n",
              "    <tr>\n",
              "      <th>0</th>\n",
              "      <td>0.00632</td>\n",
              "      <td>18.0</td>\n",
              "      <td>2.31</td>\n",
              "      <td>0.538</td>\n",
              "      <td>6.575</td>\n",
              "      <td>15.3</td>\n",
              "      <td>4.98</td>\n",
              "    </tr>\n",
              "    <tr>\n",
              "      <th>1</th>\n",
              "      <td>0.02731</td>\n",
              "      <td>0.0</td>\n",
              "      <td>7.07</td>\n",
              "      <td>0.469</td>\n",
              "      <td>6.421</td>\n",
              "      <td>17.8</td>\n",
              "      <td>9.14</td>\n",
              "    </tr>\n",
              "    <tr>\n",
              "      <th>2</th>\n",
              "      <td>0.02729</td>\n",
              "      <td>0.0</td>\n",
              "      <td>7.07</td>\n",
              "      <td>0.469</td>\n",
              "      <td>7.185</td>\n",
              "      <td>17.8</td>\n",
              "      <td>4.03</td>\n",
              "    </tr>\n",
              "    <tr>\n",
              "      <th>3</th>\n",
              "      <td>0.03237</td>\n",
              "      <td>0.0</td>\n",
              "      <td>2.18</td>\n",
              "      <td>0.458</td>\n",
              "      <td>6.998</td>\n",
              "      <td>18.7</td>\n",
              "      <td>2.94</td>\n",
              "    </tr>\n",
              "    <tr>\n",
              "      <th>4</th>\n",
              "      <td>0.06905</td>\n",
              "      <td>0.0</td>\n",
              "      <td>2.18</td>\n",
              "      <td>0.458</td>\n",
              "      <td>7.147</td>\n",
              "      <td>18.7</td>\n",
              "      <td>5.33</td>\n",
              "    </tr>\n",
              "  </tbody>\n",
              "</table>\n",
              "</div>\n",
              "      <button class=\"colab-df-convert\" onclick=\"convertToInteractive('df-978439a0-da39-4cc4-918e-e6d3728d0ed8')\"\n",
              "              title=\"Convert this dataframe to an interactive table.\"\n",
              "              style=\"display:none;\">\n",
              "        \n",
              "  <svg xmlns=\"http://www.w3.org/2000/svg\" height=\"24px\"viewBox=\"0 0 24 24\"\n",
              "       width=\"24px\">\n",
              "    <path d=\"M0 0h24v24H0V0z\" fill=\"none\"/>\n",
              "    <path d=\"M18.56 5.44l.94 2.06.94-2.06 2.06-.94-2.06-.94-.94-2.06-.94 2.06-2.06.94zm-11 1L8.5 8.5l.94-2.06 2.06-.94-2.06-.94L8.5 2.5l-.94 2.06-2.06.94zm10 10l.94 2.06.94-2.06 2.06-.94-2.06-.94-.94-2.06-.94 2.06-2.06.94z\"/><path d=\"M17.41 7.96l-1.37-1.37c-.4-.4-.92-.59-1.43-.59-.52 0-1.04.2-1.43.59L10.3 9.45l-7.72 7.72c-.78.78-.78 2.05 0 2.83L4 21.41c.39.39.9.59 1.41.59.51 0 1.02-.2 1.41-.59l7.78-7.78 2.81-2.81c.8-.78.8-2.07 0-2.86zM5.41 20L4 18.59l7.72-7.72 1.47 1.35L5.41 20z\"/>\n",
              "  </svg>\n",
              "      </button>\n",
              "      \n",
              "  <style>\n",
              "    .colab-df-container {\n",
              "      display:flex;\n",
              "      flex-wrap:wrap;\n",
              "      gap: 12px;\n",
              "    }\n",
              "\n",
              "    .colab-df-convert {\n",
              "      background-color: #E8F0FE;\n",
              "      border: none;\n",
              "      border-radius: 50%;\n",
              "      cursor: pointer;\n",
              "      display: none;\n",
              "      fill: #1967D2;\n",
              "      height: 32px;\n",
              "      padding: 0 0 0 0;\n",
              "      width: 32px;\n",
              "    }\n",
              "\n",
              "    .colab-df-convert:hover {\n",
              "      background-color: #E2EBFA;\n",
              "      box-shadow: 0px 1px 2px rgba(60, 64, 67, 0.3), 0px 1px 3px 1px rgba(60, 64, 67, 0.15);\n",
              "      fill: #174EA6;\n",
              "    }\n",
              "\n",
              "    [theme=dark] .colab-df-convert {\n",
              "      background-color: #3B4455;\n",
              "      fill: #D2E3FC;\n",
              "    }\n",
              "\n",
              "    [theme=dark] .colab-df-convert:hover {\n",
              "      background-color: #434B5C;\n",
              "      box-shadow: 0px 1px 3px 1px rgba(0, 0, 0, 0.15);\n",
              "      filter: drop-shadow(0px 1px 2px rgba(0, 0, 0, 0.3));\n",
              "      fill: #FFFFFF;\n",
              "    }\n",
              "  </style>\n",
              "\n",
              "      <script>\n",
              "        const buttonEl =\n",
              "          document.querySelector('#df-978439a0-da39-4cc4-918e-e6d3728d0ed8 button.colab-df-convert');\n",
              "        buttonEl.style.display =\n",
              "          google.colab.kernel.accessAllowed ? 'block' : 'none';\n",
              "\n",
              "        async function convertToInteractive(key) {\n",
              "          const element = document.querySelector('#df-978439a0-da39-4cc4-918e-e6d3728d0ed8');\n",
              "          const dataTable =\n",
              "            await google.colab.kernel.invokeFunction('convertToInteractive',\n",
              "                                                     [key], {});\n",
              "          if (!dataTable) return;\n",
              "\n",
              "          const docLinkHtml = 'Like what you see? Visit the ' +\n",
              "            '<a target=\"_blank\" href=https://colab.research.google.com/notebooks/data_table.ipynb>data table notebook</a>'\n",
              "            + ' to learn more about interactive tables.';\n",
              "          element.innerHTML = '';\n",
              "          dataTable['output_type'] = 'display_data';\n",
              "          await google.colab.output.renderOutput(dataTable, element);\n",
              "          const docLink = document.createElement('div');\n",
              "          docLink.innerHTML = docLinkHtml;\n",
              "          element.appendChild(docLink);\n",
              "        }\n",
              "      </script>\n",
              "    </div>\n",
              "  </div>\n",
              "  "
            ],
            "text/plain": [
              "      CRIM    ZN  INDUS    NOX     RM  PTRATIO  LSTAT\n",
              "0  0.00632  18.0   2.31  0.538  6.575     15.3   4.98\n",
              "1  0.02731   0.0   7.07  0.469  6.421     17.8   9.14\n",
              "2  0.02729   0.0   7.07  0.469  7.185     17.8   4.03\n",
              "3  0.03237   0.0   2.18  0.458  6.998     18.7   2.94\n",
              "4  0.06905   0.0   2.18  0.458  7.147     18.7   5.33"
            ]
          },
          "metadata": {},
          "execution_count": 43
        }
      ],
      "source": [
        "df[['CRIM', 'ZN', 'INDUS', 'NOX', 'RM', 'PTRATIO', 'LSTAT']].head()"
      ]
    },
    {
      "cell_type": "code",
      "execution_count": 44,
      "id": "8b748b5f-5635-459d-b940-7d2d506a56af",
      "metadata": {
        "id": "8b748b5f-5635-459d-b940-7d2d506a56af"
      },
      "outputs": [],
      "source": [
        "data3 = df.loc[:,['CRIM', 'ZN', 'INDUS', 'NOX', 'RM', 'PTRATIO', 'LSTAT']].values\n",
        "target3 = df.loc[:, ['MEDV']]"
      ]
    },
    {
      "cell_type": "code",
      "execution_count": 45,
      "id": "5ebdbd12-7358-4431-a3a6-1b68bd84157d",
      "metadata": {
        "id": "5ebdbd12-7358-4431-a3a6-1b68bd84157d"
      },
      "outputs": [],
      "source": [
        "model3 = LinearRegression().fit(data3, target3)"
      ]
    },
    {
      "cell_type": "code",
      "execution_count": 46,
      "id": "14d20eb6-f921-42ce-8155-39803bdcf744",
      "metadata": {
        "colab": {
          "base_uri": "https://localhost:8080/"
        },
        "id": "14d20eb6-f921-42ce-8155-39803bdcf744",
        "outputId": "8bd07da3-218f-4344-c518-ed63023ecffa"
      },
      "outputs": [
        {
          "output_type": "execute_result",
          "data": {
            "text/plain": [
              "array([[23.66201431]])"
            ]
          },
          "metadata": {},
          "execution_count": 46
        }
      ],
      "source": [
        "# (部屋数6)の固定で他の変数の効果を調べる\n",
        "model3.predict([[0.02, 18, 6, 0.5, 6, 18, 9]])"
      ]
    },
    {
      "cell_type": "code",
      "execution_count": 47,
      "id": "6a358b6a-368b-4eaf-8e13-ee4be3439f94",
      "metadata": {
        "colab": {
          "base_uri": "https://localhost:8080/"
        },
        "id": "6a358b6a-368b-4eaf-8e13-ee4be3439f94",
        "outputId": "8d8e7575-8c15-4b21-e272-87de2b5ef369"
      },
      "outputs": [
        {
          "output_type": "execute_result",
          "data": {
            "text/plain": [
              "array([[18.88978441]])"
            ]
          },
          "metadata": {},
          "execution_count": 47
        }
      ],
      "source": [
        "# 最も安い部屋（部屋数6）：正の相関が強い変数は0.8倍、負の相関が強い変数は1.2倍\n",
        "model3.predict([[0.024, 14.4, 7.2, 0.6, 6, 21.6, 10.8]])"
      ]
    },
    {
      "cell_type": "code",
      "execution_count": 48,
      "id": "d62d8c9d-c172-4e3d-a0ff-90775b3e2a62",
      "metadata": {
        "colab": {
          "base_uri": "https://localhost:8080/"
        },
        "id": "d62d8c9d-c172-4e3d-a0ff-90775b3e2a62",
        "outputId": "5f589cd2-970f-4f46-b4e0-d8164f5c61ac"
      },
      "outputs": [
        {
          "output_type": "execute_result",
          "data": {
            "text/plain": [
              "array([[28.43424421]])"
            ]
          },
          "metadata": {},
          "execution_count": 48
        }
      ],
      "source": [
        "# 最も高い部屋（部屋数6）：正の相関が強い変数は1.2倍、負の相関が強い変数は0.8倍\n",
        "model3.predict([[0.016, 21.6, 4.8, 0.4, 6, 14.4, 7.2]])"
      ]
    },
    {
      "cell_type": "markdown",
      "id": "80be4e00-2000-4973-81ee-4d3f9995a17d",
      "metadata": {
        "id": "80be4e00-2000-4973-81ee-4d3f9995a17d"
      },
      "source": [
        "# モデルの検証"
      ]
    },
    {
      "cell_type": "code",
      "execution_count": 49,
      "id": "04c69863-cbf4-44d4-8e7f-ed5fdf9f207c",
      "metadata": {
        "colab": {
          "base_uri": "https://localhost:8080/"
        },
        "id": "04c69863-cbf4-44d4-8e7f-ed5fdf9f207c",
        "outputId": "9bfb0dfb-5cda-4cd6-9307-e5e300dda334"
      },
      "outputs": [
        {
          "output_type": "stream",
          "name": "stdout",
          "text": [
            "単回帰決定係数: 0.484\n"
          ]
        }
      ],
      "source": [
        "print('単回帰決定係数: %.3f' % model.score(data, target))"
      ]
    },
    {
      "cell_type": "code",
      "execution_count": 50,
      "id": "7b7c1101-d148-40bf-85de-bd06a069cd8c",
      "metadata": {
        "colab": {
          "base_uri": "https://localhost:8080/"
        },
        "id": "7b7c1101-d148-40bf-85de-bd06a069cd8c",
        "outputId": "0b0e094e-d678-4b5b-ca05-5fae527f518e"
      },
      "outputs": [
        {
          "output_type": "stream",
          "name": "stdout",
          "text": [
            "重回帰決定係数（変数2）: 0.542\n"
          ]
        }
      ],
      "source": [
        "print('重回帰決定係数（変数2）: %.3f' % model2.score(data2, target2))"
      ]
    },
    {
      "cell_type": "code",
      "execution_count": 51,
      "id": "8da40066-fee5-46eb-93ff-32adf88e0635",
      "metadata": {
        "colab": {
          "base_uri": "https://localhost:8080/"
        },
        "id": "8da40066-fee5-46eb-93ff-32adf88e0635",
        "outputId": "2dfd9f92-2e1b-4abc-d469-2c053eb1fb23"
      },
      "outputs": [
        {
          "output_type": "stream",
          "name": "stdout",
          "text": [
            "重回帰決定係数（変数7）: 0.683\n"
          ]
        }
      ],
      "source": [
        "print('重回帰決定係数（変数7）: %.3f' %model3.score(data3, target3))"
      ]
    },
    {
      "cell_type": "code",
      "execution_count": 52,
      "id": "c12e0772-8f92-40bc-99e9-88e86bb81cce",
      "metadata": {
        "colab": {
          "base_uri": "https://localhost:8080/"
        },
        "id": "c12e0772-8f92-40bc-99e9-88e86bb81cce",
        "outputId": "5cc7461d-94b0-462a-e037-124090c536dc"
      },
      "outputs": [
        {
          "output_type": "execute_result",
          "data": {
            "text/plain": [
              "LinearRegression()"
            ]
          },
          "metadata": {},
          "execution_count": 52
        }
      ],
      "source": [
        "# 70%を学習用、30%を検証用データに分割\n",
        "X_train, X_test, y_train, y_test = train_test_split(data, target, test_size = 0.3, random_state = 42)\n",
        "\n",
        "# 学習用データでパラメータ推定\n",
        "model2.fit(X_train, y_train)"
      ]
    },
    {
      "cell_type": "code",
      "execution_count": 53,
      "id": "155bac2d-e9ce-4d61-b6cd-e135cd69c6ac",
      "metadata": {
        "id": "155bac2d-e9ce-4d61-b6cd-e135cd69c6ac"
      },
      "outputs": [],
      "source": [
        "# 作成したモデルから予測（学習用、検証用モデル使用）\n",
        "y_train_pred = model2.predict(X_train)\n",
        "y_test_pred = model2.predict(X_test)"
      ]
    },
    {
      "cell_type": "code",
      "execution_count": 54,
      "id": "c3345a68-335e-4115-afc8-77b6c25b716b",
      "metadata": {
        "colab": {
          "base_uri": "https://localhost:8080/",
          "height": 279
        },
        "id": "c3345a68-335e-4115-afc8-77b6c25b716b",
        "outputId": "a745deec-4ac6-4b00-d7f8-be05113afdd5"
      },
      "outputs": [
        {
          "output_type": "display_data",
          "data": {
            "image/png": "[encoded data removed]",
            "text/plain": [
              "<Figure size 432x288 with 1 Axes>"
            ]
          },
          "metadata": {
            "needs_background": "light"
          }
        }
      ],
      "source": [
        "# 学習用、検証用それぞれで残差をプロット\n",
        "plt.scatter(y_train_pred, y_train_pred - y_train, c = 'blue', marker = 'o', label = 'Train Data')\n",
        "plt.scatter(y_test_pred, y_test_pred - y_test, c = 'lightgreen', marker = 's', label = 'Test Data')\n",
        "plt.xlabel('Predicted Values')\n",
        "plt.ylabel('Residuals')\n",
        "plt.legend(loc = 'upper left')\n",
        "plt.hlines(y = 0, xmin = -10, xmax = 50, lw = 2, color = 'red')\n",
        "plt.xlim([10, 50])\n",
        "plt.show()"
      ]
    },
    {
      "cell_type": "code",
      "execution_count": 55,
      "id": "a3b2a2d0-425e-45df-8116-29c66bb1d8df",
      "metadata": {
        "colab": {
          "base_uri": "https://localhost:8080/"
        },
        "id": "a3b2a2d0-425e-45df-8116-29c66bb1d8df",
        "outputId": "ee773527-629a-4908-c210-1ed74b1740c6"
      },
      "outputs": [
        {
          "output_type": "stream",
          "name": "stdout",
          "text": [
            "MSE Train : 45.013, Test : 40.351\n",
            "R^2 Train : 0.488, Test : 0.458\n"
          ]
        }
      ],
      "source": [
        "# 学習用、検証用データに関して平均二乗誤差を出力\n",
        "print('MSE Train : %.3f, Test : %.3f' % (mean_squared_error(y_train, y_train_pred), mean_squared_error(y_test, y_test_pred)))\n",
        "# 学習用、検証用データに関してR^2を出力\n",
        "print('R^2 Train : %.3f, Test : %.3f' % (model2.score(X_train, y_train), model2.score(X_test, y_test)))"
      ]
    },
    {
      "cell_type": "markdown",
      "id": "77359b56-b075-4052-8eae-b133533b451f",
      "metadata": {
        "id": "77359b56-b075-4052-8eae-b133533b451f"
      },
      "source": [
        "# Ridge回帰分析（L2ノルム）"
      ]
    },
    {
      "cell_type": "code",
      "execution_count": 56,
      "id": "f3b3884c-1fc7-419e-a77b-f6f0044ceb20",
      "metadata": {
        "colab": {
          "base_uri": "https://localhost:8080/"
        },
        "id": "f3b3884c-1fc7-419e-a77b-f6f0044ceb20",
        "outputId": "4fc7c818-63ca-463d-ada0-5d7da06b4c38"
      },
      "outputs": [
        {
          "output_type": "stream",
          "name": "stdout",
          "text": [
            "0.4878748108596338\n",
            "0.45846542927972855\n"
          ]
        }
      ],
      "source": [
        "# Ridge回帰のオブジェクト生成\n",
        "ridge = Ridge().fit(X_train, y_train)\n",
        "print(ridge.score(X_train, y_train))\n",
        "print(ridge.score(X_test, y_test))"
      ]
    },
    {
      "cell_type": "code",
      "execution_count": 57,
      "id": "a573ccb8-3405-4145-9b35-33e0c967cbb6",
      "metadata": {
        "id": "a573ccb8-3405-4145-9b35-33e0c967cbb6"
      },
      "outputs": [],
      "source": [
        "pred_train_R = ridge.predict(X_train)\n",
        "pred_test_R = ridge.predict(X_test)"
      ]
    },
    {
      "cell_type": "code",
      "execution_count": 58,
      "id": "c1f37a56-6ba3-4cc8-aca4-26e61cf7f150",
      "metadata": {
        "colab": {
          "base_uri": "https://localhost:8080/"
        },
        "id": "c1f37a56-6ba3-4cc8-aca4-26e61cf7f150",
        "outputId": "69d93e2b-8024-4a62-a770-ead3ed79929a"
      },
      "outputs": [
        {
          "output_type": "stream",
          "name": "stdout",
          "text": [
            "MSE Train : 45.014, Test : 40.351\n",
            "R^2 Train : 0.488, Test : 0.458\n"
          ]
        }
      ],
      "source": [
        "# 学習用、検証用データに関して平均二乗誤差を出力\n",
        "print('MSE Train : %.3f, Test : %.3f' % (mean_squared_error(y_train, pred_train_R), mean_squared_error(y_test, pred_test_R)))\n",
        "# 学習用、検証用データに関してR^2を出力\n",
        "print('R^2 Train : %.3f, Test : %.3f' % (r2_score(y_train, pred_train_R), r2_score(y_test, pred_test_R)))"
      ]
    },
    {
      "cell_type": "code",
      "execution_count": 59,
      "id": "47f2ff84-dea4-4b4e-9960-b912e7c5e33f",
      "metadata": {
        "colab": {
          "base_uri": "https://localhost:8080/"
        },
        "id": "47f2ff84-dea4-4b4e-9960-b912e7c5e33f",
        "outputId": "b0033313-ff6d-4048-9ea4-396cbe9ede85"
      },
      "outputs": [
        {
          "output_type": "stream",
          "name": "stdout",
          "text": [
            "0.48657395706872597\n"
          ]
        }
      ],
      "source": [
        "# Ridgeのalphaを10倍にしてみる\n",
        "ridge10 = Ridge(alpha = 10).fit(X_train, y_train)\n",
        "print(ridge10.score(X_train, y_train))"
      ]
    },
    {
      "cell_type": "code",
      "execution_count": 60,
      "id": "44ac77da-fbbc-4837-9ca8-d1c0151e8fc8",
      "metadata": {
        "tags": [],
        "colab": {
          "base_uri": "https://localhost:8080/"
        },
        "id": "44ac77da-fbbc-4837-9ca8-d1c0151e8fc8",
        "outputId": "6bbc3dff-9cd5-4500-dfd2-65d2edee0bf7"
      },
      "outputs": [
        {
          "output_type": "stream",
          "name": "stdout",
          "text": [
            "0.4878891391533069\n"
          ]
        }
      ],
      "source": [
        "# Ridgeのalphaを0.1倍にしてみる\n",
        "ridge01 = Ridge(alpha = .1).fit(X_train, y_train)\n",
        "print(ridge01.score(X_train, y_train))"
      ]
    },
    {
      "cell_type": "markdown",
      "id": "aa6a4443-13e5-4fb5-b925-4d5cc80284be",
      "metadata": {
        "id": "aa6a4443-13e5-4fb5-b925-4d5cc80284be"
      },
      "source": [
        "# Lasso回帰分析（L1ノルム）"
      ]
    },
    {
      "cell_type": "code",
      "execution_count": 61,
      "id": "12463d15-4ba2-435f-b29d-9f0f7b873516",
      "metadata": {
        "id": "12463d15-4ba2-435f-b29d-9f0f7b873516"
      },
      "outputs": [],
      "source": [
        "# 入力変数の正規化\n",
        "lasso = Lasso().fit(X_train, y_train)"
      ]
    },
    {
      "cell_type": "code",
      "execution_count": 62,
      "id": "92b62411-8ea0-4045-ba1e-d5bc3903c03f",
      "metadata": {
        "colab": {
          "base_uri": "https://localhost:8080/"
        },
        "id": "92b62411-8ea0-4045-ba1e-d5bc3903c03f",
        "outputId": "7c39615e-9203-4b2e-df3f-2547dca87479"
      },
      "outputs": [
        {
          "output_type": "stream",
          "name": "stdout",
          "text": [
            "0.46583240048059327\n",
            "0.4366353458334702\n"
          ]
        }
      ],
      "source": [
        "print(lasso.score(X_train, y_train))\n",
        "print(lasso.score(X_test, y_test))"
      ]
    },
    {
      "cell_type": "code",
      "execution_count": 63,
      "id": "dcf45e03-b781-429b-a495-cc37d82b2142",
      "metadata": {
        "id": "dcf45e03-b781-429b-a495-cc37d82b2142"
      },
      "outputs": [],
      "source": [
        "pred_train_L = lasso.predict(X_train)\n",
        "pred_test_L = lasso.predict(X_test)"
      ]
    },
    {
      "cell_type": "code",
      "execution_count": 64,
      "id": "a82d9726-3b9b-4614-bb86-e0424d92576b",
      "metadata": {
        "colab": {
          "base_uri": "https://localhost:8080/"
        },
        "id": "a82d9726-3b9b-4614-bb86-e0424d92576b",
        "outputId": "a5f4570a-3e43-4bb4-ec58-b3ac1d99e0e5"
      },
      "outputs": [
        {
          "output_type": "stream",
          "name": "stdout",
          "text": [
            "MSE Train : 46.951, Test : 41.978\n",
            "R^2 Train : 0.466, Test : 0.437\n"
          ]
        }
      ],
      "source": [
        "# 学習用、検証用データに関して平均二乗誤差を出力\n",
        "print('MSE Train : %.3f, Test : %.3f' % (mean_squared_error(y_train, pred_train_L), mean_squared_error(y_test, pred_test_L)))\n",
        "# 学習用、検証用データに関してR^2を出力\n",
        "print('R^2 Train : %.3f, Test : %.3f' % (r2_score(y_train, pred_train_L), r2_score(y_test, pred_test_L)))"
      ]
    }
  ],
  "metadata": {
    "kernelspec": {
      "display_name": "Python 3 (ipykernel)",
      "language": "python",
      "name": "python3"
    },
    "language_info": {
      "codemirror_mode": {
        "name": "ipython",
        "version": 3
      },
      "file_extension": ".py",
      "mimetype": "text/x-python",
      "name": "python",
      "nbconvert_exporter": "python",
      "pygments_lexer": "ipython3",
      "version": "3.9.9"
    },
    "toc-autonumbering": true,
    "toc-showcode": false,
    "colab": {
      "name": "線形回帰モデル.ipynb",
      "provenance": [],
      "include_colab_link": true
    }
  },
  "nbformat": 4,
  "nbformat_minor": 5
}